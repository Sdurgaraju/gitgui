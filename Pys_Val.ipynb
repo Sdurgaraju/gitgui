{
  "nbformat": 4,
  "nbformat_minor": 0,
  "metadata": {
    "colab": {
      "provenance": [],
      "collapsed_sections": [],
      "authorship_tag": "ABX9TyN6/aAzA7FVCVg1sp592MUx",
      "include_colab_link": true
    },
    "kernelspec": {
      "name": "python3",
      "display_name": "Python 3"
    },
    "language_info": {
      "name": "python"
    }
  },
  "cells": [
    {
      "cell_type": "markdown",
      "metadata": {
        "id": "view-in-github",
        "colab_type": "text"
      },
      "source": [
        "<a href=\"https://colab.research.google.com/github/Sdurgaraju/gitgui/blob/master-remote-delete/Pys_Val.ipynb\" target=\"_parent\"><img src=\"https://colab.research.google.com/assets/colab-badge.svg\" alt=\"Open In Colab\"/></a>"
      ]
    },
    {
      "cell_type": "code",
      "execution_count": 1,
      "metadata": {
        "colab": {
          "base_uri": "https://localhost:8080/"
        },
        "id": "4wkFDE_KVTie",
        "outputId": "a72d8f93-742b-4291-f13c-1a6c16c4bef3"
      },
      "outputs": [
        {
          "output_type": "stream",
          "name": "stdout",
          "text": [
            "Looking in indexes: https://pypi.org/simple, https://us-python.pkg.dev/colab-wheels/public/simple/\n",
            "Collecting pyspark\n",
            "  Downloading pyspark-3.3.0.tar.gz (281.3 MB)\n",
            "\u001b[K     |████████████████████████████████| 281.3 MB 40 kB/s \n",
            "\u001b[?25hCollecting py4j==0.10.9.5\n",
            "  Downloading py4j-0.10.9.5-py2.py3-none-any.whl (199 kB)\n",
            "\u001b[K     |████████████████████████████████| 199 kB 56.8 MB/s \n",
            "\u001b[?25hBuilding wheels for collected packages: pyspark\n",
            "  Building wheel for pyspark (setup.py) ... \u001b[?25l\u001b[?25hdone\n",
            "  Created wheel for pyspark: filename=pyspark-3.3.0-py2.py3-none-any.whl size=281764026 sha256=4040b4f59c7c1a0bd51658e8ad24ff00fb9f1099cb8659f34062c0731904b64d\n",
            "  Stored in directory: /root/.cache/pip/wheels/7a/8e/1b/f73a52650d2e5f337708d9f6a1750d451a7349a867f928b885\n",
            "Successfully built pyspark\n",
            "Installing collected packages: py4j, pyspark\n",
            "Successfully installed py4j-0.10.9.5 pyspark-3.3.0\n"
          ]
        }
      ],
      "source": [
        "!pip install pyspark"
      ]
    },
    {
      "cell_type": "code",
      "source": [
        "from pyspark.sql.functions import *\n",
        "from datetime import datetime,date\n",
        "from pyspark.sql.window import Window\n",
        "from pyspark.sql.functions import round, col\n",
        "from pyspark.sql.types import IntegerType\n",
        "import pyspark.sql.functions as F\n",
        "from functools import reduce\n",
        "from operator import add\n",
        "from pyspark.sql.types import *\n",
        "from pyspark.sql import SparkSession\n",
        "from pyspark.sql.functions import*\n",
        "spark=SparkSession.builder.appName('Practise').getOrCreate()\n",
        "spark"
      ],
      "metadata": {
        "colab": {
          "base_uri": "https://localhost:8080/",
          "height": 219
        },
        "id": "comkYn1sVZIq",
        "outputId": "fabbcfed-f694-4ada-b945-0f0af00a1b89"
      },
      "execution_count": 2,
      "outputs": [
        {
          "output_type": "execute_result",
          "data": {
            "text/plain": [
              "<pyspark.sql.session.SparkSession at 0x7f97f0dd14d0>"
            ],
            "text/html": [
              "\n",
              "            <div>\n",
              "                <p><b>SparkSession - in-memory</b></p>\n",
              "                \n",
              "        <div>\n",
              "            <p><b>SparkContext</b></p>\n",
              "\n",
              "            <p><a href=\"http://2056f530bcf6:4040\">Spark UI</a></p>\n",
              "\n",
              "            <dl>\n",
              "              <dt>Version</dt>\n",
              "                <dd><code>v3.3.0</code></dd>\n",
              "              <dt>Master</dt>\n",
              "                <dd><code>local[*]</code></dd>\n",
              "              <dt>AppName</dt>\n",
              "                <dd><code>Practise</code></dd>\n",
              "            </dl>\n",
              "        </div>\n",
              "        \n",
              "            </div>\n",
              "        "
            ]
          },
          "metadata": {},
          "execution_count": 2
        }
      ]
    },
    {
      "cell_type": "markdown",
      "source": [
        "P1(01)"
      ],
      "metadata": {
        "id": "qmFpoYPFf9UE"
      }
    },
    {
      "cell_type": "code",
      "source": [
        "data = [[3,4,5,2,3,3,4,5,6,\"IMTRESA\",8,1]]\n",
        "columns = ['CDCIAGRU','CDFILIAC','TCCDMONE','CDPRCUE','TCCDRARE','TCCDSUBR','TCTINERE','CDCAPA','CDFILIAA','CDIMPREA','CDCONREC','IMPORTE']\n",
        "KRPRI_KRPRI100 = spark.createDataFrame(data = data, schema = columns)\n",
        "KRPRI_KRPRI100.show()\n",
        "KRPRI_KRPRI100.createOrReplaceTempView(\"KRPRI_KRPRI100\")\n",
        "\n",
        "WORK_KRPRI100_ = spark.sql(\"\"\"SELECT DISTINCT KRPRI100.CDCIAGRU, \n",
        "KRPRI100.CDFILIAC, \n",
        "KRPRI100.TCCDMONE, \n",
        "KRPRI100.CDPRCUE, \n",
        "KRPRI100.TCCDRARE, \n",
        "KRPRI100.TCCDSUBR, \n",
        "KRPRI100.TCTINERE, \n",
        "KRPRI100.CDCAPA, \n",
        "KRPRI100.CDFILIAA, \n",
        "KRPRI100.CDIMPREA, \n",
        "KRPRI100.CDCONREC, \n",
        "(SUM(KRPRI100.IMPORTE)) AS SUM_OF_IMPORTE \n",
        "FROM KRPRI_KRPRI100 AS KRPRI100 \n",
        "WHERE KRPRI100.CDIMPREA IN ( \"IMREGTO\", \"IMRSIPE\" ,\"IMTRESA\" ) \n",
        "GROUP BY KRPRI100.CDCIAGRU, \n",
        "KRPRI100.CDFILIAC, \n",
        "KRPRI100.TCCDMONE, \n",
        "KRPRI100.CDPRCUE, \n",
        "KRPRI100.TCCDRARE, \n",
        "KRPRI100.TCCDSUBR, \n",
        "KRPRI100.TCTINERE, \n",
        "KRPRI100.CDCAPA, \n",
        "KRPRI100.CDFILIAA, \n",
        "KRPRI100.CDIMPREA, \n",
        "KRPRI100.CDCONREC\"\"\").show()"
      ],
      "metadata": {
        "colab": {
          "base_uri": "https://localhost:8080/"
        },
        "id": "Wb5vV0piVgFj",
        "outputId": "8e991bae-7b83-42a2-c142-67f92375522f"
      },
      "execution_count": null,
      "outputs": [
        {
          "output_type": "stream",
          "name": "stdout",
          "text": [
            "+--------+--------+--------+-------+--------+--------+--------+------+--------+--------+--------+-------+\n",
            "|CDCIAGRU|CDFILIAC|TCCDMONE|CDPRCUE|TCCDRARE|TCCDSUBR|TCTINERE|CDCAPA|CDFILIAA|CDIMPREA|CDCONREC|IMPORTE|\n",
            "+--------+--------+--------+-------+--------+--------+--------+------+--------+--------+--------+-------+\n",
            "|       3|       4|       5|      2|       3|       3|       4|     5|       6| IMTRESA|       8|      1|\n",
            "+--------+--------+--------+-------+--------+--------+--------+------+--------+--------+--------+-------+\n",
            "\n",
            "+--------+--------+--------+-------+--------+--------+--------+------+--------+--------+--------+--------------+\n",
            "|CDCIAGRU|CDFILIAC|TCCDMONE|CDPRCUE|TCCDRARE|TCCDSUBR|TCTINERE|CDCAPA|CDFILIAA|CDIMPREA|CDCONREC|SUM_OF_IMPORTE|\n",
            "+--------+--------+--------+-------+--------+--------+--------+------+--------+--------+--------+--------------+\n",
            "|       3|       4|       5|      2|       3|       3|       4|     5|       6| IMTRESA|       8|             1|\n",
            "+--------+--------+--------+-------+--------+--------+--------+------+--------+--------+--------+--------------+\n",
            "\n"
          ]
        }
      ]
    },
    {
      "cell_type": "markdown",
      "source": [
        "D1(02)"
      ],
      "metadata": {
        "id": "CtM7vzo3qfbq"
      }
    },
    {
      "cell_type": "code",
      "source": [
        "data = [[\"AU\",201212],[\"AU\",201406],[\"DA\",201212]]\n",
        "columns = ['CDCIAGRU','CDPRCUE']\n",
        "KRPRI100 = spark.createDataFrame(data = data, schema = columns)\n",
        "KRPRI100.show()\n",
        "KRPRI100.createOrReplaceTempView(\"KRPRI100\")\n",
        "\n",
        "def func_(data):\n",
        "  data=data.filter(~((data.CDCIAGRU==\"AU\") &(data.CDPRCUE<201301)))\n",
        "  data=data.filter(~((data.CDCIAGRU==\"AU\") &(data.CDPRCUE==201406)))\n",
        "  return data\n",
        "KRPRI100_REVI=func_(KRPRI100)\n",
        "KRPRI100_REVI.show()"
      ],
      "metadata": {
        "colab": {
          "base_uri": "https://localhost:8080/"
        },
        "id": "FKb61-Zuqer9",
        "outputId": "df177d2b-27e7-4f27-e540-cfa8dd36c1e0"
      },
      "execution_count": null,
      "outputs": [
        {
          "output_type": "stream",
          "name": "stdout",
          "text": [
            "+--------+-------+\n",
            "|CDCIAGRU|CDPRCUE|\n",
            "+--------+-------+\n",
            "|      AU| 201212|\n",
            "|      AU| 201406|\n",
            "|      DA| 201212|\n",
            "+--------+-------+\n",
            "\n",
            "+--------+-------+\n",
            "|CDCIAGRU|CDPRCUE|\n",
            "+--------+-------+\n",
            "|      DA| 201212|\n",
            "+--------+-------+\n",
            "\n"
          ]
        }
      ]
    },
    {
      "cell_type": "markdown",
      "source": [
        "P2(03)"
      ],
      "metadata": {
        "id": "RaTaMs0Ciw-u"
      }
    },
    {
      "cell_type": "code",
      "source": [
        "data = [[3,4,5,2,3,3,4,5,6,\"0000000021\",1,6,4,3]]\n",
        "columns = ['CDCIAGRU','CDFILIAC','TCCDMONE','aammrepo','TCRAMDGS','TCSUBRAM','TCTINERE','CDCAPA','CDCONREC','CDFILIAA','imreinri','imregari',\n",
        "           'imresari','imrereri']\n",
        "kdmso_kdmso100 = spark.createDataFrame(data = data, schema = columns)\n",
        "kdmso_kdmso100.show()\n",
        "kdmso_kdmso100.createOrReplaceTempView(\"kdmso_kdmso100\")\n",
        "\n",
        "WORK_KDMSO100_A  = spark.sql(\"\"\"SELECT kdmso100.CDCIAGRU, \n",
        "kdmso100.CDFILIAC, \n",
        "kdmso100.TCCDMONE, \n",
        "kdmso100.aammrepo, \n",
        "kdmso100.TCRAMDGS, \n",
        "kdmso100.TCSUBRAM, \n",
        "kdmso100.TCTINERE, \n",
        "kdmso100.CDCAPA, \n",
        "kdmso100.CDCONREC as CDCONREA, \n",
        "kdmso100.CDFILIAA, \n",
        "kdmso100.imreinri, \n",
        "kdmso100.imregari, \n",
        "kdmso100.imresari, \n",
        "kdmso100.imrereri \n",
        "FROM kdmso_kdmso100 AS kdmso100 \n",
        "WHERE kdmso100.CDFILIAA NOT IN ('0000000022')\"\"\").show()"
      ],
      "metadata": {
        "colab": {
          "base_uri": "https://localhost:8080/"
        },
        "id": "4ab4B1IcZ98l",
        "outputId": "bab151ad-a41f-4274-c1dd-edcd6e4a4179"
      },
      "execution_count": null,
      "outputs": [
        {
          "output_type": "stream",
          "name": "stdout",
          "text": [
            "+--------+--------+--------+--------+--------+--------+--------+------+--------+----------+--------+--------+--------+--------+\n",
            "|CDCIAGRU|CDFILIAC|TCCDMONE|aammrepo|TCRAMDGS|TCSUBRAM|TCTINERE|CDCAPA|CDCONREC|  CDFILIAA|imreinri|imregari|imresari|imrereri|\n",
            "+--------+--------+--------+--------+--------+--------+--------+------+--------+----------+--------+--------+--------+--------+\n",
            "|       3|       4|       5|       2|       3|       3|       4|     5|       6|0000000021|       1|       6|       4|       3|\n",
            "+--------+--------+--------+--------+--------+--------+--------+------+--------+----------+--------+--------+--------+--------+\n",
            "\n",
            "+--------+--------+--------+--------+--------+--------+--------+------+--------+----------+--------+--------+--------+--------+\n",
            "|CDCIAGRU|CDFILIAC|TCCDMONE|aammrepo|TCRAMDGS|TCSUBRAM|TCTINERE|CDCAPA|CDCONREA|  CDFILIAA|imreinri|imregari|imresari|imrereri|\n",
            "+--------+--------+--------+--------+--------+--------+--------+------+--------+----------+--------+--------+--------+--------+\n",
            "|       3|       4|       5|       2|       3|       3|       4|     5|       6|0000000021|       1|       6|       4|       3|\n",
            "+--------+--------+--------+--------+--------+--------+--------+------+--------+----------+--------+--------+--------+--------+\n",
            "\n"
          ]
        }
      ]
    },
    {
      "cell_type": "markdown",
      "source": [
        "D2(04)"
      ],
      "metadata": {
        "id": "ADZ-f9XUqRRT"
      }
    },
    {
      "cell_type": "code",
      "source": [
        "data = [[3,4,5,2,3,3,4,5,6,21,\"IMREINRI\",\"TABLA_SOCURR_ROBUST\",3,4,5]]\n",
        "columns = ['CDCIAGRU','CDFILIAC','TCCDMONE','FECHA','TCRAMDGS','TCSUBRAM','TCTINERE','CDCAPA','CDCONREA','CDFILIAA','DSIMPREA','CONCEPTO','IMPORTE','aammrepo','IMREINRI']\n",
        "KDMSO100_A = spark.createDataFrame(data = data, schema = columns)\n",
        "KDMSO100_A.show()\n",
        "KDMSO100_A.createOrReplaceTempView(\"KDMSO100_A\")\n",
        "\n",
        "#Function declaration...\n",
        "def func_1204(KDMSO100_A):\n",
        "\tdata = KDMSO100_A\n",
        "\tdata = data.withColumn('FECHA', data.aammrepo)\n",
        "\tdata = data.withColumn('IMPORTE', data.IMREINRI)\n",
        "\tdata = data.withColumn('DSIMPREA', lit('IMREINRI'))\n",
        "\tdata = data.withColumn('CONCEPTO', lit('TABLA_SOCURR_ROBUST'))\n",
        "\tdata = data.select('CDCIAGRU','CDFILIAC','TCCDMONE','FECHA','TCRAMDGS','TCSUBRAM','TCTINERE','CDCAPA','CDCONREA','CDFILIAA','DSIMPREA','CONCEPTO','IMPORTE')\n",
        "\tKDMSO_B = data\n",
        "\treturn KDMSO_B\n",
        "#Function Calling...\n",
        "KDMSO_B = func_1204(KDMSO100_A);\n",
        "KDMSO_B.show()"
      ],
      "metadata": {
        "colab": {
          "base_uri": "https://localhost:8080/"
        },
        "id": "A5WO44jlZ94M",
        "outputId": "45b1076a-ec96-460e-c5bc-0d8a8605267e"
      },
      "execution_count": null,
      "outputs": [
        {
          "output_type": "stream",
          "name": "stdout",
          "text": [
            "+--------+--------+--------+-----+--------+--------+--------+------+--------+--------+--------+-------------------+-------+--------+--------+\n",
            "|CDCIAGRU|CDFILIAC|TCCDMONE|FECHA|TCRAMDGS|TCSUBRAM|TCTINERE|CDCAPA|CDCONREA|CDFILIAA|DSIMPREA|           CONCEPTO|IMPORTE|aammrepo|IMREINRI|\n",
            "+--------+--------+--------+-----+--------+--------+--------+------+--------+--------+--------+-------------------+-------+--------+--------+\n",
            "|       3|       4|       5|    2|       3|       3|       4|     5|       6|      21|IMREINRI|TABLA_SOCURR_ROBUST|      3|       4|       5|\n",
            "+--------+--------+--------+-----+--------+--------+--------+------+--------+--------+--------+-------------------+-------+--------+--------+\n",
            "\n",
            "+--------+--------+--------+-----+--------+--------+--------+------+--------+--------+--------+-------------------+-------+\n",
            "|CDCIAGRU|CDFILIAC|TCCDMONE|FECHA|TCRAMDGS|TCSUBRAM|TCTINERE|CDCAPA|CDCONREA|CDFILIAA|DSIMPREA|           CONCEPTO|IMPORTE|\n",
            "+--------+--------+--------+-----+--------+--------+--------+------+--------+--------+--------+-------------------+-------+\n",
            "|       3|       4|       5|    4|       3|       3|       4|     5|       6|      21|IMREINRI|TABLA_SOCURR_ROBUST|      5|\n",
            "+--------+--------+--------+-----+--------+--------+--------+------+--------+--------+--------+-------------------+-------+\n",
            "\n"
          ]
        }
      ]
    },
    {
      "cell_type": "code",
      "source": [
        "data = [[3,4,5,2,3,3,4,5,6,21,\"IMREGARI\",\"TABLA_SOCURR_ROBUST\",3,4,5]]\n",
        "columns = ['CDCIAGRU','CDFILIAC','TCCDMONE','FECHA','TCRAMDGS','TCSUBRAM','TCTINERE','CDCAPA','CDCONREA','CDFILIAA','DSIMPREA','CONCEPTO','IMPORTE','aammrepo','IMREGARI']\n",
        "WORK_KDMSO100_A = spark.createDataFrame(data = data, schema = columns)\n",
        "WORK_KDMSO100_A.show()\n",
        "WORK_KDMSO100_A.createOrReplaceTempView(\"WORK_KDMSO100_A\")\n",
        "\n",
        "#Function declaration...\n",
        "def func_5725(WORK_KDMSO100_A):\n",
        "\tdata = WORK_KDMSO100_A\n",
        "\t\n",
        "\tdata = data.withColumn('FECHA', data.aammrepo)\n",
        "\tdata = data.withColumn('IMPORTE', data.IMREGARI)\n",
        "\tdata = data.withColumn('DSIMPREA', lit('IMREGARI'))\n",
        "\tdata = data.withColumn('CONCEPTO', lit('TABLA_SOCURR_ROBUST'))\n",
        "\t\n",
        "\tdata = data.select('CDCIAGRU','CDFILIAC','TCCDMONE','FECHA','TCRAMDGS','TCSUBRAM','TCTINERE','CDCAPA','CDCONREA','CDFILIAA','DSIMPREA','CONCEPTO','IMPORTE')\n",
        "\tKDMSO_C = data\n",
        "\treturn KDMSO_C\n",
        "#Function Calling...\n",
        "KDMSO_C = func_5725(WORK_KDMSO100_A);\n",
        "KDMSO_C.show()"
      ],
      "metadata": {
        "colab": {
          "base_uri": "https://localhost:8080/"
        },
        "id": "Ak7CMffaDIYI",
        "outputId": "14f0885a-c4d0-4d59-b922-118e8175edac"
      },
      "execution_count": null,
      "outputs": [
        {
          "output_type": "stream",
          "name": "stdout",
          "text": [
            "+--------+--------+--------+-----+--------+--------+--------+------+--------+--------+--------+-------------------+-------+--------+--------+\n",
            "|CDCIAGRU|CDFILIAC|TCCDMONE|FECHA|TCRAMDGS|TCSUBRAM|TCTINERE|CDCAPA|CDCONREA|CDFILIAA|DSIMPREA|           CONCEPTO|IMPORTE|aammrepo|IMREGARI|\n",
            "+--------+--------+--------+-----+--------+--------+--------+------+--------+--------+--------+-------------------+-------+--------+--------+\n",
            "|       3|       4|       5|    2|       3|       3|       4|     5|       6|      21|IMREGARI|TABLA_SOCURR_ROBUST|      3|       4|       5|\n",
            "+--------+--------+--------+-----+--------+--------+--------+------+--------+--------+--------+-------------------+-------+--------+--------+\n",
            "\n",
            "+--------+--------+--------+-----+--------+--------+--------+------+--------+--------+--------+-------------------+-------+\n",
            "|CDCIAGRU|CDFILIAC|TCCDMONE|FECHA|TCRAMDGS|TCSUBRAM|TCTINERE|CDCAPA|CDCONREA|CDFILIAA|DSIMPREA|           CONCEPTO|IMPORTE|\n",
            "+--------+--------+--------+-----+--------+--------+--------+------+--------+--------+--------+-------------------+-------+\n",
            "|       3|       4|       5|    4|       3|       3|       4|     5|       6|      21|IMREGARI|TABLA_SOCURR_ROBUST|      5|\n",
            "+--------+--------+--------+-----+--------+--------+--------+------+--------+--------+--------+-------------------+-------+\n",
            "\n"
          ]
        }
      ]
    },
    {
      "cell_type": "markdown",
      "source": [
        "D4(06)"
      ],
      "metadata": {
        "id": "XgewJrlUDElM"
      }
    },
    {
      "cell_type": "code",
      "source": [
        "data = [[3,4,5,2,3,3,4,5,6,21,\"IMRESARI\",\"TABLA_SOCURR_ROBUST\",3,4,5]]\n",
        "columns = ['CDCIAGRU','CDFILIAC','TCCDMONE','FECHA','TCRAMDGS','TCSUBRAM','TCTINERE','CDCAPA','CDCONREA','CDFILIAA','DSIMPREA','CONCEPTO','IMPORTE','aammrepo','IMRESARI']\n",
        "WORK_KDMSO100_A = spark.createDataFrame(data = data, schema = columns)\n",
        "WORK_KDMSO100_A.show()\n",
        "WORK_KDMSO100_A.createOrReplaceTempView(\"WORK_KDMSO100_A\")\n",
        "\n",
        "#Function declaration...\n",
        "def func_1791(WORK_KDMSO100_A):\n",
        "\tdata = WORK_KDMSO100_A\n",
        "\t\n",
        "\tdata = data.withColumn('FECHA', data.aammrepo)\n",
        "\tdata = data.withColumn('IMPORTE', data.IMRESARI)\n",
        "\tdata = data.withColumn('DSIMPREA', lit('IMRESARI'))\n",
        "\tdata = data.withColumn('CONCEPTO', lit('TABLA_SOCURR_ROBUST'))\n",
        "\t\n",
        "\tdata = data.select('CDCIAGRU','CDFILIAC','TCCDMONE','FECHA','TCRAMDGS','TCSUBRAM','TCTINERE','CDCAPA','CDCONREA','CDFILIAA','DSIMPREA','CONCEPTO','IMPORTE')\n",
        "\tKDMSO_D = data\n",
        "\treturn KDMSO_D\n",
        "#Function Calling...\n",
        "KDMSO_D = func_1791(WORK_KDMSO100_A);\n",
        "KDMSO_D.show()"
      ],
      "metadata": {
        "colab": {
          "base_uri": "https://localhost:8080/"
        },
        "id": "T_TYsNYyZ916",
        "outputId": "606b5c8d-6540-4f20-ccae-14b48be04658"
      },
      "execution_count": null,
      "outputs": [
        {
          "output_type": "stream",
          "name": "stdout",
          "text": [
            "+--------+--------+--------+-----+--------+--------+--------+------+--------+--------+--------+-------------------+-------+--------+--------+\n",
            "|CDCIAGRU|CDFILIAC|TCCDMONE|FECHA|TCRAMDGS|TCSUBRAM|TCTINERE|CDCAPA|CDCONREA|CDFILIAA|DSIMPREA|           CONCEPTO|IMPORTE|aammrepo|IMRESARI|\n",
            "+--------+--------+--------+-----+--------+--------+--------+------+--------+--------+--------+-------------------+-------+--------+--------+\n",
            "|       3|       4|       5|    2|       3|       3|       4|     5|       6|      21|IMRESARI|TABLA_SOCURR_ROBUST|      3|       4|       5|\n",
            "+--------+--------+--------+-----+--------+--------+--------+------+--------+--------+--------+-------------------+-------+--------+--------+\n",
            "\n",
            "+--------+--------+--------+-----+--------+--------+--------+------+--------+--------+--------+-------------------+-------+\n",
            "|CDCIAGRU|CDFILIAC|TCCDMONE|FECHA|TCRAMDGS|TCSUBRAM|TCTINERE|CDCAPA|CDCONREA|CDFILIAA|DSIMPREA|           CONCEPTO|IMPORTE|\n",
            "+--------+--------+--------+-----+--------+--------+--------+------+--------+--------+--------+-------------------+-------+\n",
            "|       3|       4|       5|    4|       3|       3|       4|     5|       6|      21|IMRESARI|TABLA_SOCURR_ROBUST|      5|\n",
            "+--------+--------+--------+-----+--------+--------+--------+------+--------+--------+--------+-------------------+-------+\n",
            "\n"
          ]
        }
      ]
    },
    {
      "cell_type": "markdown",
      "source": [
        "D5(07)"
      ],
      "metadata": {
        "id": "sKlotFUKdREY"
      }
    },
    {
      "cell_type": "code",
      "source": [
        "data = [[3,4,5,2,3,3,4,5,6,21,\"IMRERERI\",\"TABLA_SOCURR_ROBUST\",3,4,5]]\n",
        "columns = ['CDCIAGRU','CDFILIAC','TCCDMONE','FECHA','TCRAMDGS','TCSUBRAM','TCTINERE','CDCAPA','CDCONREA','CDFILIAA','DSIMPREA','CONCEPTO','IMPORTE','aammrepo','IMRERERI']\n",
        "WORK_KDMSO100_A = spark.createDataFrame(data = data, schema = columns)\n",
        "WORK_KDMSO100_A.show()\n",
        "WORK_KDMSO100_A.createOrReplaceTempView(\"WORK_KDMSO100_A\")\n",
        "\n",
        "#Function declaration...\n",
        "def func_6986(WORK_KDMSO100_A):\n",
        "\tdata = WORK_KDMSO100_A\n",
        "\t\n",
        "\tdata = data.withColumn('FECHA', data.aammrepo)\n",
        "\tdata = data.withColumn('IMPORTE', data.IMRERERI)\n",
        "\tdata = data.withColumn('DSIMPREA', lit('IMRERERI'))\n",
        "\tdata = data.withColumn('CONCEPTO', lit('TABLA_SOCURR_ROBUST'))\n",
        "\t\n",
        "\tdata = data.select('CDCIAGRU','CDFILIAC','TCCDMONE','FECHA','TCRAMDGS','TCSUBRAM','TCTINERE','CDCAPA','CDCONREA','CDFILIAA','DSIMPREA','CONCEPTO','IMPORTE')\n",
        "\tKDMSO_E = data\n",
        "\treturn KDMSO_E\n",
        "#Function Calling...\n",
        "KDMSO_E = func_6986(WORK_KDMSO100_A);\n",
        "KDMSO_E.show()"
      ],
      "metadata": {
        "colab": {
          "base_uri": "https://localhost:8080/"
        },
        "id": "IYAPfQuiZ9zv",
        "outputId": "cff4f783-e61b-40f8-fb03-66ce7063246e"
      },
      "execution_count": null,
      "outputs": [
        {
          "output_type": "stream",
          "name": "stdout",
          "text": [
            "+--------+--------+--------+-----+--------+--------+--------+------+--------+--------+--------+-------------------+-------+--------+--------+\n",
            "|CDCIAGRU|CDFILIAC|TCCDMONE|FECHA|TCRAMDGS|TCSUBRAM|TCTINERE|CDCAPA|CDCONREA|CDFILIAA|DSIMPREA|           CONCEPTO|IMPORTE|aammrepo|IMRERERI|\n",
            "+--------+--------+--------+-----+--------+--------+--------+------+--------+--------+--------+-------------------+-------+--------+--------+\n",
            "|       3|       4|       5|    2|       3|       3|       4|     5|       6|      21|IMRERERI|TABLA_SOCURR_ROBUST|      3|       4|       5|\n",
            "+--------+--------+--------+-----+--------+--------+--------+------+--------+--------+--------+-------------------+-------+--------+--------+\n",
            "\n",
            "+--------+--------+--------+-----+--------+--------+--------+------+--------+--------+--------+-------------------+-------+\n",
            "|CDCIAGRU|CDFILIAC|TCCDMONE|FECHA|TCRAMDGS|TCSUBRAM|TCTINERE|CDCAPA|CDCONREA|CDFILIAA|DSIMPREA|           CONCEPTO|IMPORTE|\n",
            "+--------+--------+--------+-----+--------+--------+--------+------+--------+--------+--------+-------------------+-------+\n",
            "|       3|       4|       5|    4|       3|       3|       4|     5|       6|      21|IMRERERI|TABLA_SOCURR_ROBUST|      5|\n",
            "+--------+--------+--------+-----+--------+--------+--------+------+--------+--------+--------+-------------------+-------+\n",
            "\n"
          ]
        }
      ]
    },
    {
      "cell_type": "markdown",
      "source": [
        "D6(08)"
      ],
      "metadata": {
        "id": "HuHvhF-dj4En"
      }
    },
    {
      "cell_type": "code",
      "source": [
        "data = [[4,5]]\n",
        "columns = ['fecha', 'aammrepo']\n",
        "KDMSO_B = spark.createDataFrame(data = data, schema = columns)\n",
        "KDMSO_B.show()\n",
        "KDMSO_B.createOrReplaceTempView(\"KDMSO_B\")\n",
        "\n",
        "data = [[2,6]]\n",
        "columns = ['fecha', 'aammrepo']\n",
        "KDMSO_C = spark.createDataFrame(data = data, schema = columns)\n",
        "KDMSO_C.show()\n",
        "KDMSO_C.createOrReplaceTempView(\"KDMSO_C\")\n",
        "\n",
        "data = [[3,4]]\n",
        "columns = ['fecha', 'aammrepo']\n",
        "KDMSO_D = spark.createDataFrame(data = data, schema = columns)\n",
        "KDMSO_D.show()\n",
        "KDMSO_D.createOrReplaceTempView(\"KDMSO_D\")\n",
        "\n",
        "data = [[1,9]]\n",
        "columns = ['fecha', 'aammrepo']\n",
        "KDMSO_E = spark.createDataFrame(data = data, schema = columns)\n",
        "KDMSO_E.show()\n",
        "KDMSO_E.createOrReplaceTempView(\"KDMSO_E\")\n",
        "\n",
        "#Function declaration...\n",
        "def func_3145(KDMSO_B,KDMSO_C,KDMSO_D,KDMSO_E):\n",
        "\tdata = KDMSO_B.unionByName(KDMSO_C, allowMissingColumns=True)\n",
        "\tdata = data.unionByName(KDMSO_D, allowMissingColumns=True)\n",
        "\tdata = data.unionByName(KDMSO_E, allowMissingColumns=True)\n",
        "\tkdmso_F = data\n",
        "\tkdmso_F = kdmso_F.withColumnRenamed('fecha', 'aammrepo')\n",
        "\treturn kdmso_F\n",
        "#Function Calling...\n",
        "kdmso_F = func_3145(KDMSO_B, KDMSO_C, KDMSO_D, KDMSO_E);\n",
        "kdmso_F.show()"
      ],
      "metadata": {
        "colab": {
          "base_uri": "https://localhost:8080/"
        },
        "id": "0JxRA8fMZ9xL",
        "outputId": "372ec0b8-4d79-458e-d9d9-f1cc5e907970"
      },
      "execution_count": null,
      "outputs": [
        {
          "output_type": "stream",
          "name": "stdout",
          "text": [
            "+-----+--------+\n",
            "|fecha|aammrepo|\n",
            "+-----+--------+\n",
            "|    4|       5|\n",
            "+-----+--------+\n",
            "\n",
            "+-----+--------+\n",
            "|fecha|aammrepo|\n",
            "+-----+--------+\n",
            "|    2|       6|\n",
            "+-----+--------+\n",
            "\n",
            "+-----+--------+\n",
            "|fecha|aammrepo|\n",
            "+-----+--------+\n",
            "|    3|       4|\n",
            "+-----+--------+\n",
            "\n",
            "+-----+--------+\n",
            "|fecha|aammrepo|\n",
            "+-----+--------+\n",
            "|    1|       9|\n",
            "+-----+--------+\n",
            "\n",
            "+--------+--------+\n",
            "|aammrepo|aammrepo|\n",
            "+--------+--------+\n",
            "|       4|       5|\n",
            "|       2|       6|\n",
            "|       3|       4|\n",
            "|       1|       9|\n",
            "+--------+--------+\n",
            "\n"
          ]
        }
      ]
    },
    {
      "cell_type": "markdown",
      "source": [
        "D7(09)"
      ],
      "metadata": {
        "id": "aHNNDHNYtfk_"
      }
    },
    {
      "cell_type": "code",
      "source": [
        "data = [[51,39,29,32,41,38,11,42,94,5,65,68,19,8,6,3,1,4,21]]\n",
        "columns = ['CDCIAGRU','CDFILIAC','TCCDMONE','aammrepo','TCRAMDGS','TCSUBRAM','TCTINERE','CDCAPA','CDFILIAA','DSIMPREA','CDCONREA','CONCEPTO','IMPORTE',\n",
        "           'SUM_OF_IMPORTE','CDPRCUE','TCCDRARE','TCCDSUBR','CDIMPREA','CDCONREC']\n",
        "KRPRI100_REVI = spark.createDataFrame(data = data, schema = columns)\n",
        "KRPRI100_REVI.show()\n",
        "KRPRI100_REVI.createOrReplaceTempView(\"KRPRI100_REVI\")"
      ],
      "metadata": {
        "colab": {
          "base_uri": "https://localhost:8080/"
        },
        "id": "fpZCqw9ctoPU",
        "outputId": "b7315edc-9948-4962-ae9f-59de6dffa84d"
      },
      "execution_count": null,
      "outputs": [
        {
          "output_type": "stream",
          "name": "stdout",
          "text": [
            "+--------+--------+--------+--------+--------+--------+--------+------+--------+--------+--------+--------+-------+--------------+-------+--------+--------+--------+--------+\n",
            "|CDCIAGRU|CDFILIAC|TCCDMONE|aammrepo|TCRAMDGS|TCSUBRAM|TCTINERE|CDCAPA|CDFILIAA|DSIMPREA|CDCONREA|CONCEPTO|IMPORTE|SUM_OF_IMPORTE|CDPRCUE|TCCDRARE|TCCDSUBR|CDIMPREA|CDCONREC|\n",
            "+--------+--------+--------+--------+--------+--------+--------+------+--------+--------+--------+--------+-------+--------------+-------+--------+--------+--------+--------+\n",
            "|      51|      39|      29|      32|      41|      38|      11|    42|      94|       5|      65|      68|     19|             8|      6|       3|       1|       4|      21|\n",
            "+--------+--------+--------+--------+--------+--------+--------+------+--------+--------+--------+--------+-------+--------------+-------+--------+--------+--------+--------+\n",
            "\n"
          ]
        }
      ]
    },
    {
      "cell_type": "code",
      "source": [
        "#Function declaration...\n",
        "def func_836(KRPRI100_REVI):\n",
        "\tdata = KRPRI100_REVI\n",
        "\t\n",
        "\tdata = data.withColumn('IMPORTE', data.SUM_OF_IMPORTE)\n",
        "\tdata = data.withColumn('CONCEPTO', lit('REL_SDOS_IND'))\n",
        "\tdata = data.withColumn('aammrepo', data.CDPRCUE)\n",
        "\tdata = data.withColumn('TCRAMDGS', data.TCCDRARE)\n",
        "\tdata = data.withColumn('TCSUBRAM', data.TCCDSUBR)\n",
        "\tdata = data.withColumn('DSIMPREA', data.CDIMPREA)\n",
        "\tdata = data.withColumn('CDCONREA', data.CDCONREC)\n",
        "\t\n",
        "\tdata = data.select('CDCIAGRU','CDFILIAC','TCCDMONE','aammrepo','TCRAMDGS','TCSUBRAM','TCTINERE','CDCAPA','CDFILIAA','DSIMPREA','CDCONREA','CONCEPTO','IMPORTE')\n",
        "\tSALD_IND = data\n",
        "\treturn SALD_IND\n",
        "#Function Calling...\n",
        "SALD_IND = func_836(KRPRI100_REVI);\n",
        "SALD_IND.show()"
      ],
      "metadata": {
        "colab": {
          "base_uri": "https://localhost:8080/"
        },
        "id": "wIRdE24TZ9us",
        "outputId": "aef325c1-140f-4fa6-b6ff-6751cc2a5a7a"
      },
      "execution_count": null,
      "outputs": [
        {
          "output_type": "stream",
          "name": "stdout",
          "text": [
            "+--------+--------+--------+--------+--------+--------+--------+------+--------+--------+--------+------------+-------+\n",
            "|CDCIAGRU|CDFILIAC|TCCDMONE|aammrepo|TCRAMDGS|TCSUBRAM|TCTINERE|CDCAPA|CDFILIAA|DSIMPREA|CDCONREA|    CONCEPTO|IMPORTE|\n",
            "+--------+--------+--------+--------+--------+--------+--------+------+--------+--------+--------+------------+-------+\n",
            "|      51|      39|      29|       6|       3|       1|      11|    42|      94|       4|      21|REL_SDOS_IND|      8|\n",
            "+--------+--------+--------+--------+--------+--------+--------+------+--------+--------+--------+------------+-------+\n",
            "\n"
          ]
        }
      ]
    },
    {
      "cell_type": "markdown",
      "source": [
        "D7(09_1)"
      ],
      "metadata": {
        "id": "Lbm1xXMc41eB"
      }
    },
    {
      "cell_type": "code",
      "source": [
        "data = [[]]\n",
        "columns = []\n",
        "SALD_IND = spark.createDataFrame(data = data, schema = columns)\n",
        "SALD_IND.show()\n",
        "SALD_IND.createOrReplaceTempView(\"SALD_IND\")\n",
        "\n",
        "data = [[]]\n",
        "columns = []\n",
        "kdmso_f = spark.createDataFrame(data = data, schema = columns)\n",
        "kdmso_f.show()\n",
        "kdmso_f.createOrReplaceTempView(\"kdmso_f\")"
      ],
      "metadata": {
        "colab": {
          "base_uri": "https://localhost:8080/"
        },
        "id": "5rYyRR8s472D",
        "outputId": "0df156bc-12f2-49ed-9d89-c6eea510946b"
      },
      "execution_count": null,
      "outputs": [
        {
          "output_type": "stream",
          "name": "stdout",
          "text": [
            "++\n",
            "||\n",
            "++\n",
            "||\n",
            "++\n",
            "\n",
            "++\n",
            "||\n",
            "++\n",
            "||\n",
            "++\n",
            "\n"
          ]
        }
      ]
    },
    {
      "cell_type": "code",
      "source": [
        "#Function declaration...\n",
        "def func_501(SALD_IND,kdmso_f):\n",
        "    data = SALD_IND.unionByName(kdmso_f, allowMissingColumns=True)\n",
        "    COMPARACION = data\n",
        "    return COMPARACION\n",
        "#Function Calling...\n",
        "COMPARACION = func_501(SALD_IND, kdmso_f);"
      ],
      "metadata": {
        "id": "ucaWbPqEZ9rn"
      },
      "execution_count": null,
      "outputs": []
    },
    {
      "cell_type": "markdown",
      "source": [
        "P3(10)"
      ],
      "metadata": {
        "id": "cyJqocdb7Gme"
      }
    },
    {
      "cell_type": "code",
      "source": [
        "data = [[2,3,4,1],[2,3,4,1]]\n",
        "columns = ['importe','aammrepo','concepto','cdciagru']\n",
        "comparacion = spark.createDataFrame(data = data, schema = columns)\n",
        "comparacion.show()\n",
        "comparacion.createOrReplaceTempView(\"comparacion\")\n",
        "\n",
        "cuadre = spark.sql(\"\"\"select sum(importe) as sum_importe, \n",
        "aammrepo, \n",
        "concepto ,\n",
        "cdciagru \n",
        "from comparacion \n",
        "group by aammrepo, concepto, cdciagru\"\"\").show()"
      ],
      "metadata": {
        "id": "xqDLSwkuZ9ot",
        "colab": {
          "base_uri": "https://localhost:8080/"
        },
        "outputId": "5cab3cce-d690-434d-b7f1-4fef7191f4f3"
      },
      "execution_count": null,
      "outputs": [
        {
          "output_type": "stream",
          "name": "stdout",
          "text": [
            "+-------+--------+--------+--------+\n",
            "|importe|aammrepo|concepto|cdciagru|\n",
            "+-------+--------+--------+--------+\n",
            "|      2|       3|       4|       1|\n",
            "|      2|       3|       4|       1|\n",
            "+-------+--------+--------+--------+\n",
            "\n",
            "+-----------+--------+--------+--------+\n",
            "|sum_importe|aammrepo|concepto|cdciagru|\n",
            "+-----------+--------+--------+--------+\n",
            "|          4|       3|       4|       1|\n",
            "+-----------+--------+--------+--------+\n",
            "\n"
          ]
        }
      ]
    },
    {
      "cell_type": "markdown",
      "source": [
        "P4(11)"
      ],
      "metadata": {
        "id": "KVI6lFd1a8IK"
      }
    },
    {
      "cell_type": "code",
      "source": [
        "data = [[\"AU\"],[\"SA\"],[\"DA\"]]\n",
        "columns = ['cdciagru']\n",
        "krpri_krpri100 = spark.createDataFrame(data = data, schema = columns)\n",
        "krpri_krpri100.show()\n",
        "krpri_krpri100.createOrReplaceTempView(\"krpri_krpri100\")\n",
        "\n",
        "krpri100 = spark.sql(\"\"\"select * \n",
        "from krpri_krpri100 \n",
        "where cdciagru in ('AU','DA')\"\"\").show()"
      ],
      "metadata": {
        "id": "ZJmsaWG1Z9fE",
        "colab": {
          "base_uri": "https://localhost:8080/"
        },
        "outputId": "ac978543-5d50-4e26-c0c1-a2bac4e134d4"
      },
      "execution_count": null,
      "outputs": [
        {
          "output_type": "stream",
          "name": "stdout",
          "text": [
            "+--------+\n",
            "|cdciagru|\n",
            "+--------+\n",
            "|      AU|\n",
            "|      SA|\n",
            "|      DA|\n",
            "+--------+\n",
            "\n",
            "+--------+\n",
            "|cdciagru|\n",
            "+--------+\n",
            "|      AU|\n",
            "|      DA|\n",
            "+--------+\n",
            "\n"
          ]
        }
      ]
    },
    {
      "cell_type": "markdown",
      "source": [
        "P5(12)"
      ],
      "metadata": {
        "id": "BV79xJJUddf5"
      }
    },
    {
      "cell_type": "code",
      "source": [
        "data = [[\"AU\"],[\"SA\"],[\"DA\"]]\n",
        "columns = ['cdciagru']\n",
        "krpri_kdmbl100 = spark.createDataFrame(data = data, schema = columns)\n",
        "krpri_kdmbl100.show()\n",
        "krpri_kdmbl100.createOrReplaceTempView(\"krpri_kdmbl100\")\n",
        "\n",
        "kdmbl100 = spark.sql(\"\"\"select * \n",
        "from krpri_kdmbl100 \n",
        "where cdciagru in ('AU','DA')\"\"\").show()"
      ],
      "metadata": {
        "id": "6cejqevY7a30",
        "colab": {
          "base_uri": "https://localhost:8080/"
        },
        "outputId": "e6b045ea-2eed-4ccc-d41b-bb0dae496682"
      },
      "execution_count": null,
      "outputs": [
        {
          "output_type": "stream",
          "name": "stdout",
          "text": [
            "+--------+\n",
            "|cdciagru|\n",
            "+--------+\n",
            "|      AU|\n",
            "|      SA|\n",
            "|      DA|\n",
            "+--------+\n",
            "\n",
            "+--------+\n",
            "|cdciagru|\n",
            "+--------+\n",
            "|      AU|\n",
            "|      DA|\n",
            "+--------+\n",
            "\n"
          ]
        }
      ]
    },
    {
      "cell_type": "markdown",
      "source": [],
      "metadata": {
        "id": "jP-YoTBVdcZp"
      }
    },
    {
      "cell_type": "markdown",
      "source": [
        "P6(13)"
      ],
      "metadata": {
        "id": "teCEDYVjdfVm"
      }
    },
    {
      "cell_type": "code",
      "source": [
        "data = [[3,4,5,2,3,3,4,\"IMPRIRE\",6,8,1,6]]\n",
        "columns = ['cdciagru','cdfiliac','tccdmone','cdprcue','tctinere','cdcapa','cdfiliaa','cdimprea','tccdrare','tccdsubr','cdconrec','importe']\n",
        "krpri100 = spark.createDataFrame(data = data, schema = columns)\n",
        "krpri100.show()\n",
        "krpri100.createOrReplaceTempView(\"krpri100\")\n",
        "\n",
        "krpri100_ = spark.sql(\"\"\"select distinct krpri100.cdciagru, \n",
        "krpri100.cdfiliac, \n",
        "krpri100.tccdmone, \n",
        "krpri100.cdprcue, \n",
        "krpri100.tctinere, \n",
        "krpri100.cdcapa, \n",
        "krpri100.cdfiliaa, \n",
        "krpri100.cdimprea, \n",
        "krpri100.tccdrare, \n",
        "krpri100.tccdsubr, \n",
        "krpri100.cdconrec, \n",
        "(sum(krpri100.importe)) as sum_of_importe \n",
        "from krpri100 as krpri100 \n",
        "where krpri100.cdimprea in ( \"IMPPROV\", \"IMAJPRI\",\"IMPRIRE\", \"IMRECRE\", \"IMRESIR\" ) \n",
        "group by krpri100.cdciagru,\n",
        "krpri100.cdfiliac, \n",
        "krpri100.tccdmone, \n",
        "krpri100.cdprcue,\n",
        "krpri100.tccdrare, \n",
        "krpri100.tccdsubr, \n",
        "krpri100.tctinere, \n",
        "krpri100.cdcapa,\n",
        "krpri100.cdfiliaa,\n",
        "krpri100.cdimprea,\n",
        "krpri100.cdconrec\"\"\").show()"
      ],
      "metadata": {
        "colab": {
          "base_uri": "https://localhost:8080/"
        },
        "id": "KakmrQgkbrKu",
        "outputId": "371953cf-ba06-4fe0-fab0-3ea6cf6f0726"
      },
      "execution_count": null,
      "outputs": [
        {
          "output_type": "stream",
          "name": "stdout",
          "text": [
            "+--------+--------+--------+-------+--------+------+--------+--------+--------+--------+--------+-------+\n",
            "|cdciagru|cdfiliac|tccdmone|cdprcue|tctinere|cdcapa|cdfiliaa|cdimprea|tccdrare|tccdsubr|cdconrec|importe|\n",
            "+--------+--------+--------+-------+--------+------+--------+--------+--------+--------+--------+-------+\n",
            "|       3|       4|       5|      2|       3|     3|       4| IMPRIRE|       6|       8|       1|      6|\n",
            "+--------+--------+--------+-------+--------+------+--------+--------+--------+--------+--------+-------+\n",
            "\n",
            "+--------+--------+--------+-------+--------+------+--------+--------+--------+--------+--------+--------------+\n",
            "|cdciagru|cdfiliac|tccdmone|cdprcue|tctinere|cdcapa|cdfiliaa|cdimprea|tccdrare|tccdsubr|cdconrec|sum_of_importe|\n",
            "+--------+--------+--------+-------+--------+------+--------+--------+--------+--------+--------+--------------+\n",
            "|       3|       4|       5|      2|       3|     3|       4| IMPRIRE|       6|       8|       1|             6|\n",
            "+--------+--------+--------+-------+--------+------+--------+--------+--------+--------+--------+--------------+\n",
            "\n"
          ]
        }
      ]
    },
    {
      "cell_type": "markdown",
      "source": [
        "D8(14)"
      ],
      "metadata": {
        "id": "8UHGM1zJfm0W"
      }
    },
    {
      "cell_type": "code",
      "source": [
        "data = [[\"AU\",201212],[\"AU\",201406],[\"DA\",201212]]\n",
        "columns = ['cdciagru','cdprcue']\n",
        "KRPRI100 = spark.createDataFrame(data = data, schema = columns)\n",
        "KRPRI100.show()\n",
        "KRPRI100.createOrReplaceTempView(\"KRPRI100\")\n",
        "\n",
        "def func(data):\n",
        "  data=data.filter(~((data.cdciagru == \"AU\") & (data.cdprcue<=201212)))\n",
        "  return data\n",
        "KRPRI100_REVI=func(KRPRI100)\n",
        "KRPRI100_REVI.show()"
      ],
      "metadata": {
        "colab": {
          "base_uri": "https://localhost:8080/"
        },
        "id": "YMj9uDMkbrIt",
        "outputId": "3245da63-9753-4025-f64e-2c6e6fe11871"
      },
      "execution_count": null,
      "outputs": [
        {
          "output_type": "stream",
          "name": "stdout",
          "text": [
            "+--------+-------+\n",
            "|cdciagru|cdprcue|\n",
            "+--------+-------+\n",
            "|      AU| 201212|\n",
            "|      AU| 201406|\n",
            "|      DA| 201212|\n",
            "+--------+-------+\n",
            "\n",
            "+--------+-------+\n",
            "|cdciagru|cdprcue|\n",
            "+--------+-------+\n",
            "|      AU| 201406|\n",
            "|      DA| 201212|\n",
            "+--------+-------+\n",
            "\n"
          ]
        }
      ]
    },
    {
      "cell_type": "markdown",
      "source": [],
      "metadata": {
        "id": "uC_lAtXNg4El"
      }
    },
    {
      "cell_type": "markdown",
      "source": [
        "P7(15)"
      ],
      "metadata": {
        "id": "gMGq4dSKg6jF"
      }
    },
    {
      "cell_type": "code",
      "source": [
        "data = [[3,4,5,2,3,3,4,9,6,8,1,3,9,2,1]]\n",
        "columns = ['cdciagru','cdfiliac','tccdmone','aammrepo','tctinere','TCCDRARE','TCCDSUBR','cdcapa','cdconrec','cdfiliaa','pmd', \n",
        "'ajuste_primas','reinstalacion','pagos','retencion']\n",
        "kdmbl100 = spark.createDataFrame(data = data, schema = columns)\n",
        "kdmbl100.show()\n",
        "kdmbl100.createOrReplaceTempView(\"kdmbl100\")\n",
        "\n",
        "kdmbl100_A = spark.sql(\"\"\"select kdmbl100.cdciagru, \n",
        "kdmbl100.cdfiliac, \n",
        "kdmbl100.tccdmone, \n",
        "kdmbl100.aammrepo, \n",
        "kdmbl100.tctinere, \n",
        "kdmbl100.TCCDRARE, \n",
        "kdmbl100.TCCDSUBR, \n",
        "kdmbl100.cdcapa, \n",
        "kdmbl100.cdconrec as cdconrea, \n",
        "kdmbl100.cdfiliaa, \n",
        "kdmbl100.pmd, \n",
        "kdmbl100.ajuste_primas, \n",
        "kdmbl100.reinstalacion, \n",
        "kdmbl100.pagos, \n",
        "kdmbl100.retencion \n",
        "from kdmbl100 as kdmbl100\"\"\").show()"
      ],
      "metadata": {
        "colab": {
          "base_uri": "https://localhost:8080/"
        },
        "id": "ttWfpvJ7brGV",
        "outputId": "8ccc5842-3414-4010-f728-739719d87eff"
      },
      "execution_count": null,
      "outputs": [
        {
          "output_type": "stream",
          "name": "stdout",
          "text": [
            "+--------+--------+--------+--------+--------+--------+--------+------+--------+--------+---+-------------+-------------+-----+---------+\n",
            "|cdciagru|cdfiliac|tccdmone|aammrepo|tctinere|TCCDRARE|TCCDSUBR|cdcapa|cdconrec|cdfiliaa|pmd|ajuste_primas|reinstalacion|pagos|retencion|\n",
            "+--------+--------+--------+--------+--------+--------+--------+------+--------+--------+---+-------------+-------------+-----+---------+\n",
            "|       3|       4|       5|       2|       3|       3|       4|     9|       6|       8|  1|            3|            9|    2|        1|\n",
            "+--------+--------+--------+--------+--------+--------+--------+------+--------+--------+---+-------------+-------------+-----+---------+\n",
            "\n",
            "+--------+--------+--------+--------+--------+--------+--------+------+--------+--------+---+-------------+-------------+-----+---------+\n",
            "|cdciagru|cdfiliac|tccdmone|aammrepo|tctinere|TCCDRARE|TCCDSUBR|cdcapa|cdconrea|cdfiliaa|pmd|ajuste_primas|reinstalacion|pagos|retencion|\n",
            "+--------+--------+--------+--------+--------+--------+--------+------+--------+--------+---+-------------+-------------+-----+---------+\n",
            "|       3|       4|       5|       2|       3|       3|       4|     9|       6|       8|  1|            3|            9|    2|        1|\n",
            "+--------+--------+--------+--------+--------+--------+--------+------+--------+--------+---+-------------+-------------+-----+---------+\n",
            "\n"
          ]
        }
      ]
    },
    {
      "cell_type": "markdown",
      "source": [
        "D9_2(16)"
      ],
      "metadata": {
        "id": "Pnqr_AD0YL05"
      }
    },
    {
      "cell_type": "code",
      "source": [
        "data = [[3,4,5,2,3,3,4,9,6,\"pmd\",\"tabla_afecxl_robust\",3,9,2,1]]\n",
        "columns = ['cdciagru','cdfiliac','tccdmone','fecha','tctinere','tccdrare','tccdsubr','cdcapa','cdconrea','cdfiliaa','dsimprea','concepto','importe',\n",
        "'aammrepo','pmd']\n",
        "work_kdmbl100_a = spark.createDataFrame(data = data, schema = columns)\n",
        "work_kdmbl100_a.show()\n",
        "work_kdmbl100_a.createOrReplaceTempView(\"work_kdmbl100_a\")"
      ],
      "metadata": {
        "colab": {
          "base_uri": "https://localhost:8080/"
        },
        "id": "v8rPLiqsaV0O",
        "outputId": "a1f6da32-0526-43ea-c1a1-52f5fe278da3"
      },
      "execution_count": 10,
      "outputs": [
        {
          "output_type": "stream",
          "name": "stdout",
          "text": [
            "+--------+--------+--------+-----+--------+--------+--------+------+--------+--------+-------------------+--------+-------+--------+---+\n",
            "|cdciagru|cdfiliac|tccdmone|fecha|tctinere|tccdrare|tccdsubr|cdcapa|cdconrea|cdfiliaa|           dsimprea|concepto|importe|aammrepo|pmd|\n",
            "+--------+--------+--------+-----+--------+--------+--------+------+--------+--------+-------------------+--------+-------+--------+---+\n",
            "|       3|       4|       5|    2|       3|       3|       4|     9|       6|     pmd|tabla_afecxl_robust|       3|      9|       2|  1|\n",
            "+--------+--------+--------+-----+--------+--------+--------+------+--------+--------+-------------------+--------+-------+--------+---+\n",
            "\n"
          ]
        }
      ]
    },
    {
      "cell_type": "code",
      "source": [
        "#Function declaration...\n",
        "def func_7089(work_kdmbl100_a):\n",
        "\tdata = work_kdmbl100_a\n",
        "\tdata = data.withColumn('fecha', data.aammrepo)\n",
        "\tdata = data.withColumn('importe', data.pmd)\n",
        "\tdata = data.withColumn('dsimprea', lit('pmd'))\n",
        "\tdata = data.withColumn('concepto', lit('tabla_afecxl_robust'))\n",
        "\tdata = data.select('cdciagru','cdfiliac','tccdmone','fecha','tctinere','tccdrare','tccdsubr','cdcapa','cdconrea','cdfiliaa','dsimprea','concepto','importe')\n",
        "\tkdmbl_b = data\n",
        "\treturn kdmbl_b\n",
        "#Function Calling...\n",
        "kdmbl_b = func_7089(work_kdmbl100_a);\n",
        "kdmbl_b.show()"
      ],
      "metadata": {
        "colab": {
          "base_uri": "https://localhost:8080/"
        },
        "id": "f77MZZuKaWGN",
        "outputId": "2cd95c10-a9da-4a0b-f9a7-ffe2a3c188aa"
      },
      "execution_count": 12,
      "outputs": [
        {
          "output_type": "stream",
          "name": "stdout",
          "text": [
            "+--------+--------+--------+-----+--------+--------+--------+------+--------+--------+--------+-------------------+-------+\n",
            "|cdciagru|cdfiliac|tccdmone|fecha|tctinere|tccdrare|tccdsubr|cdcapa|cdconrea|cdfiliaa|dsimprea|           concepto|importe|\n",
            "+--------+--------+--------+-----+--------+--------+--------+------+--------+--------+--------+-------------------+-------+\n",
            "|       3|       4|       5|    2|       3|       3|       4|     9|       6|     pmd|     pmd|tabla_afecxl_robust|      1|\n",
            "+--------+--------+--------+-----+--------+--------+--------+------+--------+--------+--------+-------------------+-------+\n",
            "\n"
          ]
        }
      ]
    },
    {
      "cell_type": "markdown",
      "source": [
        "D10(17)"
      ],
      "metadata": {
        "id": "tKCKYANXaqvz"
      }
    },
    {
      "cell_type": "code",
      "source": [
        "data = [[3,4,5,2,3,3,4,9,6,\"ajuste_primas\",\"tabla_afecxl_robust\",3,9,2,1]]\n",
        "columns = ['cdciagru','cdfiliac','tccdmone','fecha','tctinere','tccdrare','tccdsubr','cdcapa','cdconrea','cdfiliaa','dsimprea','concepto','importe',\n",
        "'aammrepo','ajuste_primas']\n",
        "kdmbl100_a = spark.createDataFrame(data = data, schema = columns)\n",
        "kdmbl100_a.show()\n",
        "kdmbl100_a.createOrReplaceTempView(\"kdmbl100_a\")"
      ],
      "metadata": {
        "colab": {
          "base_uri": "https://localhost:8080/"
        },
        "id": "uJnOfyIrY7EB",
        "outputId": "5107b0eb-30ca-4353-cfe4-cb484052dcae"
      },
      "execution_count": 7,
      "outputs": [
        {
          "output_type": "stream",
          "name": "stdout",
          "text": [
            "+--------+--------+--------+-----+--------+--------+--------+------+--------+-------------+-------------------+--------+-------+--------+-------------+\n",
            "|cdciagru|cdfiliac|tccdmone|fecha|tctinere|tccdrare|tccdsubr|cdcapa|cdconrea|     cdfiliaa|           dsimprea|concepto|importe|aammrepo|ajuste_primas|\n",
            "+--------+--------+--------+-----+--------+--------+--------+------+--------+-------------+-------------------+--------+-------+--------+-------------+\n",
            "|       3|       4|       5|    2|       3|       3|       4|     9|       6|ajuste_primas|tabla_afecxl_robust|       3|      9|       2|            1|\n",
            "+--------+--------+--------+-----+--------+--------+--------+------+--------+-------------+-------------------+--------+-------+--------+-------------+\n",
            "\n"
          ]
        }
      ]
    },
    {
      "cell_type": "code",
      "source": [
        "#Function declaration...\n",
        "def func_3364(kdmbl100_a):\n",
        "\tdata = kdmbl100_a\n",
        "\tdata = data.withColumn('fecha', data.aammrepo)\n",
        "\tdata = data.withColumn('importe', data.ajuste_primas)\n",
        "\tdata = data.withColumn('dsimprea', lit('ajuste_primas'))\n",
        "\tdata = data.withColumn('concepto', lit('tabla_afecxl_robust'))\n",
        "\tdata = data.select('cdciagru','cdfiliac','tccdmone','fecha','tctinere','tccdrare','tccdsubr','cdcapa','cdconrea','cdfiliaa','dsimprea','concepto','importe')\n",
        "\tkdmbl_c = data\n",
        "\treturn kdmbl_c\n",
        "#Function Calling...\n",
        "kdmbl_c = func_3364(kdmbl100_a);\n",
        "kdmbl_c.show()"
      ],
      "metadata": {
        "id": "UZ5zU5m7brDs",
        "colab": {
          "base_uri": "https://localhost:8080/"
        },
        "outputId": "3304d4b7-a816-45e0-82d6-996fe6d77582"
      },
      "execution_count": 9,
      "outputs": [
        {
          "output_type": "stream",
          "name": "stdout",
          "text": [
            "+--------+--------+--------+-----+--------+--------+--------+------+--------+-------------+-------------+-------------------+-------+\n",
            "|cdciagru|cdfiliac|tccdmone|fecha|tctinere|tccdrare|tccdsubr|cdcapa|cdconrea|     cdfiliaa|     dsimprea|           concepto|importe|\n",
            "+--------+--------+--------+-----+--------+--------+--------+------+--------+-------------+-------------+-------------------+-------+\n",
            "|       3|       4|       5|    2|       3|       3|       4|     9|       6|ajuste_primas|ajuste_primas|tabla_afecxl_robust|      1|\n",
            "+--------+--------+--------+-----+--------+--------+--------+------+--------+-------------+-------------+-------------------+-------+\n",
            "\n"
          ]
        }
      ]
    },
    {
      "cell_type": "markdown",
      "source": [
        "D11(18)"
      ],
      "metadata": {
        "id": "H56sYb9Id7Ux"
      }
    },
    {
      "cell_type": "code",
      "source": [
        "data = [[3,4,5,2,3,3,4,9,6,\"reinstalacion\",\"tabla_afecxl_robust\",3,9,2,1]]\n",
        "columns = ['cdciagru','cdfiliac','tccdmone','fecha','tctinere','tccdrare','tccdsubr','cdcapa','cdconrea','cdfiliaa','dsimprea','concepto','importe',\n",
        "'aammrepo','reinstalacion']\n",
        "kdmbl100_a = spark.createDataFrame(data = data, schema = columns)\n",
        "kdmbl100_a.show()\n",
        "kdmbl100_a.createOrReplaceTempView(\"kdmbl100_a\")"
      ],
      "metadata": {
        "id": "aBSG5FeNbrBV",
        "colab": {
          "base_uri": "https://localhost:8080/"
        },
        "outputId": "0bc946ad-5bee-4ffb-e05b-915b431d08e4"
      },
      "execution_count": 13,
      "outputs": [
        {
          "output_type": "stream",
          "name": "stdout",
          "text": [
            "+--------+--------+--------+-----+--------+--------+--------+------+--------+-------------+-------------------+--------+-------+--------+-------------+\n",
            "|cdciagru|cdfiliac|tccdmone|fecha|tctinere|tccdrare|tccdsubr|cdcapa|cdconrea|     cdfiliaa|           dsimprea|concepto|importe|aammrepo|reinstalacion|\n",
            "+--------+--------+--------+-----+--------+--------+--------+------+--------+-------------+-------------------+--------+-------+--------+-------------+\n",
            "|       3|       4|       5|    2|       3|       3|       4|     9|       6|reinstalacion|tabla_afecxl_robust|       3|      9|       2|            1|\n",
            "+--------+--------+--------+-----+--------+--------+--------+------+--------+-------------+-------------------+--------+-------+--------+-------------+\n",
            "\n"
          ]
        }
      ]
    },
    {
      "cell_type": "code",
      "source": [
        "#Function declaration...\n",
        "def func_9943(kdmbl100_a):\n",
        "\tdata = kdmbl100_a\n",
        "\t\n",
        "\tdata = data.withColumn('fecha', data.aammrepo)\n",
        "\tdata = data.withColumn('importe', data.reinstalacion)\n",
        "\tdata = data.withColumn('dsimprea', lit('reinstalacion'))\n",
        "\tdata = data.withColumn('concepto', lit('tabla_afecxl_robust'))\n",
        "\t\n",
        "\tdata = data.select('cdciagru','cdfiliac','tccdmone','fecha','tctinere','cdcapa','cdconrea','tccdrare','tccdsubr','cdfiliaa','dsimprea','concepto','importe')\n",
        "\tkdmbl_d = data\n",
        "\treturn kdmbl_d\n",
        "#Function Calling...\n",
        "kdmbl_d = func_9943(kdmbl100_a);\n",
        "kdmbl_d.show()"
      ],
      "metadata": {
        "colab": {
          "base_uri": "https://localhost:8080/"
        },
        "id": "G9EaZ9nQYOds",
        "outputId": "ad19d3eb-d38b-44f4-a7af-2d95b7039c95"
      },
      "execution_count": 14,
      "outputs": [
        {
          "output_type": "stream",
          "name": "stdout",
          "text": [
            "+--------+--------+--------+-----+--------+------+--------+--------+--------+-------------+-------------+-------------------+-------+\n",
            "|cdciagru|cdfiliac|tccdmone|fecha|tctinere|cdcapa|cdconrea|tccdrare|tccdsubr|     cdfiliaa|     dsimprea|           concepto|importe|\n",
            "+--------+--------+--------+-----+--------+------+--------+--------+--------+-------------+-------------+-------------------+-------+\n",
            "|       3|       4|       5|    2|       3|     9|       6|       3|       4|reinstalacion|reinstalacion|tabla_afecxl_robust|      1|\n",
            "+--------+--------+--------+-----+--------+------+--------+--------+--------+-------------+-------------+-------------------+-------+\n",
            "\n"
          ]
        }
      ]
    },
    {
      "cell_type": "markdown",
      "source": [
        "D12(19)"
      ],
      "metadata": {
        "id": "FL8rIa40d9vk"
      }
    },
    {
      "cell_type": "code",
      "source": [
        "data = [[3,4,5,2,3,3,4,9,6,\"pagos\",\"tabla_afecxl_robust\",3,9,2,1]]\n",
        "columns = ['cdciagru','cdfiliac','tccdmone','fecha','tctinere','tccdrare','tccdsubr','cdcapa','cdconrea','cdfiliaa','dsimprea','concepto','importe',\n",
        "'aammrepo','pagos']\n",
        "kdmbl100_a = spark.createDataFrame(data = data, schema = columns)\n",
        "kdmbl100_a.show()\n",
        "kdmbl100_a.createOrReplaceTempView(\"kdmbl100_a\")"
      ],
      "metadata": {
        "colab": {
          "base_uri": "https://localhost:8080/"
        },
        "id": "O-8FxJJAYOZ2",
        "outputId": "e86031f8-d530-4337-e16e-f66e58330881"
      },
      "execution_count": 15,
      "outputs": [
        {
          "output_type": "stream",
          "name": "stdout",
          "text": [
            "+--------+--------+--------+-----+--------+--------+--------+------+--------+--------+-------------------+--------+-------+--------+-----+\n",
            "|cdciagru|cdfiliac|tccdmone|fecha|tctinere|tccdrare|tccdsubr|cdcapa|cdconrea|cdfiliaa|           dsimprea|concepto|importe|aammrepo|pagos|\n",
            "+--------+--------+--------+-----+--------+--------+--------+------+--------+--------+-------------------+--------+-------+--------+-----+\n",
            "|       3|       4|       5|    2|       3|       3|       4|     9|       6|   pagos|tabla_afecxl_robust|       3|      9|       2|    1|\n",
            "+--------+--------+--------+-----+--------+--------+--------+------+--------+--------+-------------------+--------+-------+--------+-----+\n",
            "\n"
          ]
        }
      ]
    },
    {
      "cell_type": "code",
      "source": [
        "#Function declaration...\n",
        "def func_1237(kdmbl100_a):\n",
        "\tdata = kdmbl100_a\n",
        "\t\n",
        "\tdata = data.withColumn('fecha', data.aammrepo)\n",
        "\tdata = data.withColumn('importe', data.pagos)\n",
        "\tdata = data.withColumn('dsimprea', lit('pagos'))\n",
        "\tdata = data.withColumn('concepto', lit('tabla_afecxl_robust'))\n",
        "\t\n",
        "\tdata = data.select('cdciagru','cdfiliac','tccdmone','fecha','tctinere','cdcapa','cdconrea','tccdrare','tccdsubr','cdfiliaa','dsimprea','concepto','importe')\n",
        "\tkdmbl_e = data\n",
        "\treturn kdmbl_e\n",
        "#Function Calling...\n",
        "kdmbl_e = func_1237(kdmbl100_a);\n",
        "kdmbl_e.show()"
      ],
      "metadata": {
        "colab": {
          "base_uri": "https://localhost:8080/"
        },
        "id": "9CQy1xUMYOPd",
        "outputId": "028401a8-3f2e-4bf7-beff-3139d04604fe"
      },
      "execution_count": 16,
      "outputs": [
        {
          "output_type": "stream",
          "name": "stdout",
          "text": [
            "+--------+--------+--------+-----+--------+------+--------+--------+--------+--------+--------+-------------------+-------+\n",
            "|cdciagru|cdfiliac|tccdmone|fecha|tctinere|cdcapa|cdconrea|tccdrare|tccdsubr|cdfiliaa|dsimprea|           concepto|importe|\n",
            "+--------+--------+--------+-----+--------+------+--------+--------+--------+--------+--------+-------------------+-------+\n",
            "|       3|       4|       5|    2|       3|     9|       6|       3|       4|   pagos|   pagos|tabla_afecxl_robust|      1|\n",
            "+--------+--------+--------+-----+--------+------+--------+--------+--------+--------+--------+-------------------+-------+\n",
            "\n"
          ]
        }
      ]
    },
    {
      "cell_type": "markdown",
      "source": [
        "D13(20)"
      ],
      "metadata": {
        "id": "RlJGmg1LeADs"
      }
    },
    {
      "cell_type": "code",
      "source": [
        "data = [[3,4,5,2,3,3,4,9,6,\"retencion\",\"tabla_afecxl_robust\",3,9,2,1]]\n",
        "columns = ['cdciagru','cdfiliac','tccdmone','fecha','tctinere','tccdrare','tccdsubr','cdcapa','cdconrea','cdfiliaa','dsimprea','concepto','importe',\n",
        "'aammrepo','retencion']\n",
        "kdmbl100_a = spark.createDataFrame(data = data, schema = columns)\n",
        "kdmbl100_a.show()\n",
        "kdmbl100_a.createOrReplaceTempView(\"kdmbl100_a\")"
      ],
      "metadata": {
        "colab": {
          "base_uri": "https://localhost:8080/"
        },
        "id": "AudxqLZQYOM4",
        "outputId": "eb96f083-7c71-4d02-e656-48a2cea868e7"
      },
      "execution_count": 17,
      "outputs": [
        {
          "output_type": "stream",
          "name": "stdout",
          "text": [
            "+--------+--------+--------+-----+--------+--------+--------+------+--------+---------+-------------------+--------+-------+--------+---------+\n",
            "|cdciagru|cdfiliac|tccdmone|fecha|tctinere|tccdrare|tccdsubr|cdcapa|cdconrea| cdfiliaa|           dsimprea|concepto|importe|aammrepo|retencion|\n",
            "+--------+--------+--------+-----+--------+--------+--------+------+--------+---------+-------------------+--------+-------+--------+---------+\n",
            "|       3|       4|       5|    2|       3|       3|       4|     9|       6|retencion|tabla_afecxl_robust|       3|      9|       2|        1|\n",
            "+--------+--------+--------+-----+--------+--------+--------+------+--------+---------+-------------------+--------+-------+--------+---------+\n",
            "\n"
          ]
        }
      ]
    },
    {
      "cell_type": "code",
      "source": [
        "#Function declaration...\n",
        "def func_5933(kdmbl100_a):\n",
        "\tdata = kdmbl100_a\n",
        "\t\n",
        "\tdata = data.withColumn('fecha', data.aammrepo)\n",
        "\tdata = data.withColumn('importe', data.retencion)\n",
        "\tdata = data.withColumn('dsimprea', lit('retencion'))\n",
        "\tdata = data.withColumn('concepto', lit('tabla_afecxl_robust'))\n",
        "\t\n",
        "\tdata = data.select('cdciagru','cdfiliac','tccdmone','fecha','tctinere','cdcapa','cdconrea','tccdrare','tccdsubr','cdfiliaa','dsimprea','concepto','importe')\n",
        "\tkdmbl_f = data\n",
        "\treturn kdmbl_f\n",
        "#Function Calling...\n",
        "kdmbl_f = func_5933(kdmbl100_a);\n",
        "kdmbl_f.show()"
      ],
      "metadata": {
        "colab": {
          "base_uri": "https://localhost:8080/"
        },
        "id": "7HfeC_0NYOKQ",
        "outputId": "663fdf76-c0d9-4ceb-cbc3-b967c713baee"
      },
      "execution_count": 18,
      "outputs": [
        {
          "output_type": "stream",
          "name": "stdout",
          "text": [
            "+--------+--------+--------+-----+--------+------+--------+--------+--------+---------+---------+-------------------+-------+\n",
            "|cdciagru|cdfiliac|tccdmone|fecha|tctinere|cdcapa|cdconrea|tccdrare|tccdsubr| cdfiliaa| dsimprea|           concepto|importe|\n",
            "+--------+--------+--------+-----+--------+------+--------+--------+--------+---------+---------+-------------------+-------+\n",
            "|       3|       4|       5|    2|       3|     9|       6|       3|       4|retencion|retencion|tabla_afecxl_robust|      1|\n",
            "+--------+--------+--------+-----+--------+------+--------+--------+--------+---------+---------+-------------------+-------+\n",
            "\n"
          ]
        }
      ]
    },
    {
      "cell_type": "markdown",
      "source": [
        "D14(21)"
      ],
      "metadata": {
        "id": "Be838iTMg5Oe"
      }
    },
    {
      "cell_type": "code",
      "source": [
        "data = [[4,5]]\n",
        "columns = ['fecha', 'aammrepo']\n",
        "kdmbl_b = spark.createDataFrame(data = data, schema = columns)\n",
        "kdmbl_b.show()\n",
        "kdmbl_b.createOrReplaceTempView(\"kdmbl_b\")\n",
        "data = [[2,6]]\n",
        "columns = ['fecha', 'aammrepo']\n",
        "kdmbl_c = spark.createDataFrame(data = data, schema = columns)\n",
        "kdmbl_c.show()\n",
        "kdmbl_c.createOrReplaceTempView(\"kdmbl_c\")\n",
        "data = [[3,4]]\n",
        "columns = ['fecha', 'aammrepo']\n",
        "kdmbl_d = spark.createDataFrame(data = data, schema = columns)\n",
        "kdmbl_d.show()\n",
        "kdmbl_d.createOrReplaceTempView(\"kdmbl_d\")\n",
        "data = [[1,9]]\n",
        "columns = ['fecha', 'aammrepo']\n",
        "kdmbl_e = spark.createDataFrame(data = data, schema = columns)\n",
        "kdmbl_e.show()\n",
        "kdmbl_e.createOrReplaceTempView(\"kdmbl_e\")\n",
        "data = [[1,9]]\n",
        "columns = ['fecha', 'aammrepo']\n",
        "kdmbl_f = spark.createDataFrame(data = data, schema = columns)\n",
        "kdmbl_f.show()\n",
        "kdmbl_f.createOrReplaceTempView(\"kdmbl_f\")"
      ],
      "metadata": {
        "colab": {
          "base_uri": "https://localhost:8080/"
        },
        "id": "HtSq2c1khKzd",
        "outputId": "ee83d32e-3d6b-4942-ce16-a5779a821f82"
      },
      "execution_count": 19,
      "outputs": [
        {
          "output_type": "stream",
          "name": "stdout",
          "text": [
            "+-----+--------+\n",
            "|fecha|aammrepo|\n",
            "+-----+--------+\n",
            "|    4|       5|\n",
            "+-----+--------+\n",
            "\n",
            "+-----+--------+\n",
            "|fecha|aammrepo|\n",
            "+-----+--------+\n",
            "|    2|       6|\n",
            "+-----+--------+\n",
            "\n",
            "+-----+--------+\n",
            "|fecha|aammrepo|\n",
            "+-----+--------+\n",
            "|    3|       4|\n",
            "+-----+--------+\n",
            "\n",
            "+-----+--------+\n",
            "|fecha|aammrepo|\n",
            "+-----+--------+\n",
            "|    1|       9|\n",
            "+-----+--------+\n",
            "\n",
            "+-----+--------+\n",
            "|fecha|aammrepo|\n",
            "+-----+--------+\n",
            "|    1|       9|\n",
            "+-----+--------+\n",
            "\n"
          ]
        }
      ]
    },
    {
      "cell_type": "code",
      "source": [
        "#Function declaration...\n",
        "def func_5738(kdmbl_b,kdmbl_c,kdmbl_d,kdmbl_e,kdmbl_f):\n",
        "\tdata = kdmbl_b.unionByName(kdmbl_c, allowMissingColumns=True)\n",
        "\tdata = data.unionByName(kdmbl_d, allowMissingColumns=True)\n",
        "\tdata = data.unionByName(kdmbl_e, allowMissingColumns=True)\n",
        "\tdata = data.unionByName(kdmbl_f, allowMissingColumns=True)\n",
        "\tkdmbl_g = data\n",
        "\tkdmbl_g = kdmbl_g.withColumnRenamed('fecha', 'aammrepo')\n",
        "\treturn kdmbl_g\n",
        "#Function Calling...\n",
        "kdmbl_g = func_5738(kdmbl_b, kdmbl_c, kdmbl_d, kdmbl_e, kdmbl_f);\n",
        "kdmbl_g.show()"
      ],
      "metadata": {
        "colab": {
          "base_uri": "https://localhost:8080/"
        },
        "id": "3ZcIOISdYOH3",
        "outputId": "e7d8dccd-69e2-4c53-98d9-f49cb011336a"
      },
      "execution_count": 21,
      "outputs": [
        {
          "output_type": "stream",
          "name": "stdout",
          "text": [
            "+--------+--------+\n",
            "|aammrepo|aammrepo|\n",
            "+--------+--------+\n",
            "|       4|       5|\n",
            "|       2|       6|\n",
            "|       3|       4|\n",
            "|       1|       9|\n",
            "|       1|       9|\n",
            "+--------+--------+\n",
            "\n"
          ]
        }
      ]
    },
    {
      "cell_type": "markdown",
      "source": [
        "D15(22)"
      ],
      "metadata": {
        "id": "ea-zdfpcity9"
      }
    },
    {
      "cell_type": "code",
      "source": [
        "data = [[51,39,29,32,41,38,11,42,94,5,65,68,19,8,6,3,1]]\n",
        "columns = ['cdciagru','cdfiliac','tccdmone','aammrepo','tctinere','cdcapa','cdfiliaa','tccdrare','tccdsubr','dsimprea','cdconrea','concepto','importe',\n",
        "           'sum_of_importe','cdprcue','cdimprea','cdconrec']\n",
        "krpri100_revi = spark.createDataFrame(data = data, schema = columns)\n",
        "krpri100_revi.show()\n",
        "krpri100_revi.createOrReplaceTempView(\"krpri100_revi\")\n",
        "\n",
        "#Function declaration...\n",
        "def func_3795(krpri100_revi):\n",
        "\tdata = krpri100_revi\n",
        "\tdata = data.withColumn('importe', data.sum_of_importe)\n",
        "\tdata = data.withColumn('concepto', lit('rel_sdos_ind'))\n",
        "\tdata = data.withColumn('aammrepo', data.cdprcue)\n",
        "\tdata = data.withColumn('dsimprea', data.cdimprea)\n",
        "\tdata = data.withColumn('cdconrea', data.cdconrec)\n",
        "\tdata = data.select('cdciagru','cdfiliac','tccdmone','aammrepo','tctinere','cdcapa','cdfiliaa','tccdrare','tccdsubr','dsimprea','cdconrea','concepto','importe')\n",
        "\tsald_ind = data\n",
        "\treturn sald_ind\n",
        "#Function Calling...\n",
        "sald_ind = func_3795(krpri100_revi);\n",
        "sald_ind.show()"
      ],
      "metadata": {
        "colab": {
          "base_uri": "https://localhost:8080/"
        },
        "id": "zPsH5UkbYN-5",
        "outputId": "46572503-69c7-49d1-feed-a5f74da28a84"
      },
      "execution_count": 23,
      "outputs": [
        {
          "output_type": "stream",
          "name": "stdout",
          "text": [
            "+--------+--------+--------+--------+--------+------+--------+--------+--------+--------+--------+--------+-------+--------------+-------+--------+--------+\n",
            "|cdciagru|cdfiliac|tccdmone|aammrepo|tctinere|cdcapa|cdfiliaa|tccdrare|tccdsubr|dsimprea|cdconrea|concepto|importe|sum_of_importe|cdprcue|cdimprea|cdconrec|\n",
            "+--------+--------+--------+--------+--------+------+--------+--------+--------+--------+--------+--------+-------+--------------+-------+--------+--------+\n",
            "|      51|      39|      29|      32|      41|    38|      11|      42|      94|       5|      65|      68|     19|             8|      6|       3|       1|\n",
            "+--------+--------+--------+--------+--------+------+--------+--------+--------+--------+--------+--------+-------+--------------+-------+--------+--------+\n",
            "\n",
            "+--------+--------+--------+--------+--------+------+--------+--------+--------+--------+--------+------------+-------+\n",
            "|cdciagru|cdfiliac|tccdmone|aammrepo|tctinere|cdcapa|cdfiliaa|tccdrare|tccdsubr|dsimprea|cdconrea|    concepto|importe|\n",
            "+--------+--------+--------+--------+--------+------+--------+--------+--------+--------+--------+------------+-------+\n",
            "|      51|      39|      29|       6|      41|    38|      11|      42|      94|       3|       1|rel_sdos_ind|      8|\n",
            "+--------+--------+--------+--------+--------+------+--------+--------+--------+--------+--------+------------+-------+\n",
            "\n"
          ]
        }
      ]
    },
    {
      "cell_type": "markdown",
      "source": [
        "D16(23)"
      ],
      "metadata": {
        "id": "2CtrmAccll8k"
      }
    },
    {
      "cell_type": "code",
      "source": [
        "data = [[4,2]]\n",
        "columns = ['capa', 'cdcapa']\n",
        "sald_ind = spark.createDataFrame(data = data, schema = columns)\n",
        "sald_ind.show()\n",
        "sald_ind.createOrReplaceTempView(\"sald_ind\")\n",
        "\n",
        "#Function declaration...\n",
        "def func_1573(sald_ind):\n",
        "\tdata = sald_ind\n",
        "\tdata = data.withColumn('capa', when(length(data.cdcapa)==2,data.cdcapa).when(length(data.cdcapa)<2,lpad(data.cdcapa,2, \"0\")).otherwise(\"\"))\n",
        "\tsald_indi = data\n",
        "\tsald_indi = sald_indi.withColumnRenamed('capa', 'cdcapa')\n",
        "\tsald_indi = sald_indi.withColumnRenamed('drop', 'cdcapa')\n",
        "\treturn sald_indi\n",
        "#Function Calling...\n",
        "sald_indi = func_1573(sald_ind);\n",
        "sald_indi.show()"
      ],
      "metadata": {
        "colab": {
          "base_uri": "https://localhost:8080/"
        },
        "id": "9zYPONQdYN88",
        "outputId": "1436ff79-eeeb-4d3c-dc93-1f31edaba99b"
      },
      "execution_count": 29,
      "outputs": [
        {
          "output_type": "stream",
          "name": "stdout",
          "text": [
            "+----+------+\n",
            "|capa|cdcapa|\n",
            "+----+------+\n",
            "|   4|     2|\n",
            "+----+------+\n",
            "\n",
            "+------+------+\n",
            "|cdcapa|cdcapa|\n",
            "+------+------+\n",
            "|    02|     2|\n",
            "+------+------+\n",
            "\n"
          ]
        }
      ]
    },
    {
      "cell_type": "markdown",
      "source": [
        "D17(24)"
      ],
      "metadata": {
        "id": "Bbl-E2K80sZ9"
      }
    },
    {
      "cell_type": "code",
      "source": [
        "data = [[]]\n",
        "columns = []\n",
        "SALD_IND = spark.createDataFrame(data = data, schema = columns)\n",
        "SALD_IND.show()\n",
        "SALD_IND.createOrReplaceTempView(\"sald_indi\")\n",
        "\n",
        "data = [[]]\n",
        "columns = []\n",
        "kdmso_f = spark.createDataFrame(data = data, schema = columns)\n",
        "kdmso_f.show()\n",
        "kdmso_f.createOrReplaceTempView(\"kdmbl_g\")\n",
        "\n",
        "#Function declaration...\n",
        "def func_6197(sald_indi,kdmbl_g):\n",
        "\tdata = sald_indi.unionByName(kdmbl_g, allowMissingColumns=True)\n",
        "\tcomparacion = data\n",
        "\treturn comparacion\n",
        "#Function Calling...\n",
        "comparacion = func_6197(sald_indi, kdmbl_g);"
      ],
      "metadata": {
        "id": "ocUZtWWXYN1E"
      },
      "execution_count": null,
      "outputs": []
    },
    {
      "cell_type": "markdown",
      "source": [
        "P8(25)"
      ],
      "metadata": {
        "id": "FJ7xK-in2Pqq"
      }
    },
    {
      "cell_type": "code",
      "source": [
        "data = [[2,3,4],[2,3,4]]\n",
        "columns = ['importe','aammrepo','concepto']\n",
        "comparacion = spark.createDataFrame(data = data, schema = columns)\n",
        "comparacion.show()\n",
        "comparacion.createOrReplaceTempView(\"comparacion\")\n",
        "\n",
        "cuadre = spark.sql(\"\"\"select sum(importe) as sum_importe, \n",
        "aammrepo, \n",
        "concepto \n",
        "from comparacion \n",
        "group by aammrepo, \n",
        "concepto\"\"\").show()"
      ],
      "metadata": {
        "colab": {
          "base_uri": "https://localhost:8080/"
        },
        "id": "_gdukwAxYNyl",
        "outputId": "b539e09f-6245-4fae-b564-4d8a7d942e11"
      },
      "execution_count": 30,
      "outputs": [
        {
          "output_type": "stream",
          "name": "stdout",
          "text": [
            "+-------+--------+--------+\n",
            "|importe|aammrepo|concepto|\n",
            "+-------+--------+--------+\n",
            "|      2|       3|       4|\n",
            "|      2|       3|       4|\n",
            "+-------+--------+--------+\n",
            "\n",
            "+-----------+--------+--------+\n",
            "|sum_importe|aammrepo|concepto|\n",
            "+-----------+--------+--------+\n",
            "|          4|       3|       4|\n",
            "+-----------+--------+--------+\n",
            "\n"
          ]
        }
      ]
    },
    {
      "cell_type": "markdown",
      "source": [
        "P9(26)"
      ],
      "metadata": {
        "id": "xYtuKqXb3mWW"
      }
    },
    {
      "cell_type": "code",
      "source": [
        "data = [[3,4,5,2,3,3,4,5,6,\"201710\",1,6,4]]\n",
        "columns = ['cdciagru','cdfiliac','tccdmone','tctinere','cdfiliaa','tccdrare','tccdsubr','importe','concepto','aammrepo','dsimprea','cdconrea','cdcapa']\n",
        "WORK_COMPARACION = spark.createDataFrame(data = data, schema = columns)\n",
        "WORK_COMPARACION.show()\n",
        "WORK_COMPARACION.createOrReplaceTempView(\"WORK_COMPARACION\")\n",
        "\n",
        "Query2_for_COMPARACION = spark.sql(\"\"\"SELECT COMPARACION.cdciagru, \n",
        "COMPARACION.cdfiliac, \n",
        "COMPARACION.tccdmone, \n",
        "COMPARACION.tctinere, \n",
        "COMPARACION.cdfiliaa, \n",
        "COMPARACION.tccdrare, \n",
        "COMPARACION.tccdsubr, \n",
        "COMPARACION.importe, \n",
        "COMPARACION.concepto, \n",
        "COMPARACION.aammrepo, \n",
        "COMPARACION.dsimprea, \n",
        "COMPARACION.cdconrea, \n",
        "COMPARACION.cdcapa \n",
        "FROM WORK_COMPARACION AS COMPARACION \n",
        "WHERE COMPARACION.aammrepo IN ( \"201601\", \"201710\" )\"\"\").show()"
      ],
      "metadata": {
        "colab": {
          "base_uri": "https://localhost:8080/"
        },
        "id": "UBPFQAHy2PWr",
        "outputId": "b83b058e-ea47-4862-87e8-faf0dffb91bf"
      },
      "execution_count": 38,
      "outputs": [
        {
          "output_type": "stream",
          "name": "stdout",
          "text": [
            "+--------+--------+--------+--------+--------+--------+--------+-------+--------+--------+--------+--------+------+\n",
            "|cdciagru|cdfiliac|tccdmone|tctinere|cdfiliaa|tccdrare|tccdsubr|importe|concepto|aammrepo|dsimprea|cdconrea|cdcapa|\n",
            "+--------+--------+--------+--------+--------+--------+--------+-------+--------+--------+--------+--------+------+\n",
            "|       3|       4|       5|       2|       3|       3|       4|      5|       6|  201710|       1|       6|     4|\n",
            "+--------+--------+--------+--------+--------+--------+--------+-------+--------+--------+--------+--------+------+\n",
            "\n",
            "+--------+--------+--------+--------+--------+--------+--------+-------+--------+--------+--------+--------+------+\n",
            "|cdciagru|cdfiliac|tccdmone|tctinere|cdfiliaa|tccdrare|tccdsubr|importe|concepto|aammrepo|dsimprea|cdconrea|cdcapa|\n",
            "+--------+--------+--------+--------+--------+--------+--------+-------+--------+--------+--------+--------+------+\n",
            "|       3|       4|       5|       2|       3|       3|       4|      5|       6|  201710|       1|       6|     4|\n",
            "+--------+--------+--------+--------+--------+--------+--------+-------+--------+--------+--------+--------+------+\n",
            "\n"
          ]
        }
      ]
    },
    {
      "cell_type": "markdown",
      "source": [
        "P10(28)"
      ],
      "metadata": {
        "id": "jn1WPE0U6QWg"
      }
    },
    {
      "cell_type": "code",
      "source": [
        "data = [[3,4,5,2,3,3,4,2,6,\"IMCOUTI\",1,6]]\n",
        "columns = ['CDCIAGRU','CDFILIAC','TCCDMONE','CDPRCUE','TCCDRARE','TCCDSUBR','TCTINERE','CDCAPA','CDFILIAA','CDIMPREA','CDCONREC','IMPORTE']\n",
        "dmrep_KRPRI100 = spark.createDataFrame(data = data, schema = columns)\n",
        "dmrep_KRPRI100.show()\n",
        "dmrep_KRPRI100.createOrReplaceTempView(\"dmrep_KRPRI100\")\n",
        "\n",
        "WORK_KRPRI100_REVI = spark.sql(\"\"\"SELECT DISTINCT KRPRI100.CDCIAGRU, \n",
        "KRPRI100.CDFILIAC, \n",
        "KRPRI100.TCCDMONE, \n",
        "KRPRI100.CDPRCUE, \n",
        "KRPRI100.TCCDRARE, \n",
        "KRPRI100.TCCDSUBR, \n",
        "KRPRI100.TCTINERE, \n",
        "KRPRI100.CDCAPA, \n",
        "KRPRI100.CDFILIAA, \n",
        "KRPRI100.CDIMPREA, \n",
        "KRPRI100.CDCONREC, \n",
        "(SUM(KRPRI100.IMPORTE)) AS SUM_OF_IMPORTE \n",
        "FROM dmrep_KRPRI100 AS KRPRI100 \n",
        "WHERE KRPRI100.CDIMPREA IN (\"IMPRNET\",\"IMCOMI\", \"IMCOUTI\", \"IMCOASI\" ) \n",
        "GROUP BY KRPRI100.CDCIAGRU, \n",
        "KRPRI100.CDFILIAC, \n",
        "KRPRI100.TCCDMONE, \n",
        "KRPRI100.CDPRCUE, \n",
        "KRPRI100.TCCDRARE, \n",
        "KRPRI100.TCCDSUBR, \n",
        "KRPRI100.TCTINERE, \n",
        "KRPRI100.CDCAPA, \n",
        "KRPRI100.CDFILIAA, \n",
        "KRPRI100.CDIMPREA, \n",
        "KRPRI100.CDCONREC\"\"\").show()"
      ],
      "metadata": {
        "colab": {
          "base_uri": "https://localhost:8080/"
        },
        "id": "DhrkPrfm2PS2",
        "outputId": "43e55529-3413-4641-fe9d-8c2e8521cd89"
      },
      "execution_count": 41,
      "outputs": [
        {
          "output_type": "stream",
          "name": "stdout",
          "text": [
            "+--------+--------+--------+-------+--------+--------+--------+------+--------+--------+--------+-------+\n",
            "|CDCIAGRU|CDFILIAC|TCCDMONE|CDPRCUE|TCCDRARE|TCCDSUBR|TCTINERE|CDCAPA|CDFILIAA|CDIMPREA|CDCONREC|IMPORTE|\n",
            "+--------+--------+--------+-------+--------+--------+--------+------+--------+--------+--------+-------+\n",
            "|       3|       4|       5|      2|       3|       3|       4|     2|       6| IMCOUTI|       1|      6|\n",
            "+--------+--------+--------+-------+--------+--------+--------+------+--------+--------+--------+-------+\n",
            "\n",
            "+--------+--------+--------+-------+--------+--------+--------+------+--------+--------+--------+--------------+\n",
            "|CDCIAGRU|CDFILIAC|TCCDMONE|CDPRCUE|TCCDRARE|TCCDSUBR|TCTINERE|CDCAPA|CDFILIAA|CDIMPREA|CDCONREC|SUM_OF_IMPORTE|\n",
            "+--------+--------+--------+-------+--------+--------+--------+------+--------+--------+--------+--------------+\n",
            "|       3|       4|       5|      2|       3|       3|       4|     2|       6| IMCOUTI|       1|             6|\n",
            "+--------+--------+--------+-------+--------+--------+--------+------+--------+--------+--------+--------------+\n",
            "\n"
          ]
        }
      ]
    },
    {
      "cell_type": "markdown",
      "source": [
        "P11(29)"
      ],
      "metadata": {
        "id": "f6CVJ3mK-DWr"
      }
    },
    {
      "cell_type": "code",
      "source": [
        "data = [[3,4,5,2,3,3,4,5,6,2,1,6]]\n",
        "columns = ['CDCIAGRU','CDFILIAC','TCCDMONE','aammrepo','TCRAMDGS','TCSUBRAM','TCTINERE','CDCAPA','CDCONREA','CDFILIAA','PRCEDCIA','IMCOMIND']\n",
        "dmrep_KDMPC100 = spark.createDataFrame(data = data, schema = columns)\n",
        "dmrep_KDMPC100.show()\n",
        "dmrep_KDMPC100.createOrReplaceTempView(\"dmrep_KDMPC100\")"
      ],
      "metadata": {
        "colab": {
          "base_uri": "https://localhost:8080/"
        },
        "id": "m2vJ7DGq-CxV",
        "outputId": "112ad792-bae1-45bf-e8c2-70bcefee8632"
      },
      "execution_count": 43,
      "outputs": [
        {
          "output_type": "stream",
          "name": "stdout",
          "text": [
            "+--------+--------+--------+--------+--------+--------+--------+------+--------+--------+--------+--------+\n",
            "|CDCIAGRU|CDFILIAC|TCCDMONE|aammrepo|TCRAMDGS|TCSUBRAM|TCTINERE|CDCAPA|CDCONREA|CDFILIAA|PRCEDCIA|IMCOMIND|\n",
            "+--------+--------+--------+--------+--------+--------+--------+------+--------+--------+--------+--------+\n",
            "|       3|       4|       5|       2|       3|       3|       4|     5|       6|       2|       1|       6|\n",
            "+--------+--------+--------+--------+--------+--------+--------+------+--------+--------+--------+--------+\n",
            "\n"
          ]
        }
      ]
    },
    {
      "cell_type": "code",
      "source": [
        "WORK_kdmpc100_A = spark.sql(\"\"\"SELECT kdmpc100.CDCIAGRU, \n",
        "kdmpc100.CDFILIAC, \n",
        "kdmpc100.TCCDMONE, \n",
        "kdmpc100.aammrepo, \n",
        "kdmpc100.TCRAMDGS, \n",
        "kdmpc100.TCSUBRAM, \n",
        "kdmpc100.TCTINERE, \n",
        "kdmpc100.CDCAPA, \n",
        "kdmpc100.CDCONREA, \n",
        "kdmpc100.CDFILIAA, \n",
        "kdmpc100.PRCEDCIA, \n",
        "kdmpc100.IMCOMIND \n",
        "FROM dmrep_KDMPC100 AS kdmpc100\"\"\").show()"
      ],
      "metadata": {
        "colab": {
          "base_uri": "https://localhost:8080/"
        },
        "id": "VSRjS6SV-3Uv",
        "outputId": "77e240db-2a10-49c0-8105-f5ff925e988c"
      },
      "execution_count": 44,
      "outputs": [
        {
          "output_type": "stream",
          "name": "stdout",
          "text": [
            "+--------+--------+--------+--------+--------+--------+--------+------+--------+--------+--------+--------+\n",
            "|CDCIAGRU|CDFILIAC|TCCDMONE|aammrepo|TCRAMDGS|TCSUBRAM|TCTINERE|CDCAPA|CDCONREA|CDFILIAA|PRCEDCIA|IMCOMIND|\n",
            "+--------+--------+--------+--------+--------+--------+--------+------+--------+--------+--------+--------+\n",
            "|       3|       4|       5|       2|       3|       3|       4|     5|       6|       2|       1|       6|\n",
            "+--------+--------+--------+--------+--------+--------+--------+------+--------+--------+--------+--------+\n",
            "\n"
          ]
        }
      ]
    },
    {
      "cell_type": "markdown",
      "source": [
        "D18(30)"
      ],
      "metadata": {
        "id": "4W1UbhNf86Id"
      }
    },
    {
      "cell_type": "code",
      "source": [
        "data = [[3,4,5,2,3,3,4,9,6,\"PRIMANETA\",\"TABLA_PRIM_ROBUST\",3,9,2,1]]\n",
        "columns = ['CDCIAGRU','CDFILIAC','TCCDMONE','FECHA','TCRAMDGS','TCSUBRAM','TCTINERE','CDCAPA','CDCONREA','CDFILIAA','DSIMPREA','CONCEPTO','IMPORTE',\n",
        "'aammrepo','PRCEDCIA']\n",
        "WORK_KDMPC100_A = spark.createDataFrame(data = data, schema = columns)\n",
        "WORK_KDMPC100_A.show()\n",
        "WORK_KDMPC100_A.createOrReplaceTempView(\"WORK_KDMPC100_A\")\n",
        "\n",
        "#Function declaration...\n",
        "def func_7314(WORK_KDMPC100_A):\n",
        "\tdata = WORK_KDMPC100_A\n",
        "\t\n",
        "\tdata = data.withColumn('FECHA', data.aammrepo)\n",
        "\tdata = data.withColumn('IMPORTE', data.PRCEDCIA)\n",
        "\tdata = data.withColumn('DSIMPREA', lit('PRIMANETA'))\n",
        "\tdata = data.withColumn('CONCEPTO', lit('TABLA_PRIM_ROBUST'))\n",
        "\t\n",
        "\tdata = data.select('CDCIAGRU','CDFILIAC','TCCDMONE','FECHA','TCRAMDGS','TCSUBRAM','TCTINERE','CDCAPA','CDCONREA','CDFILIAA','DSIMPREA','CONCEPTO','IMPORTE')\n",
        "\tkdmpc_B = data\n",
        "\treturn kdmpc_B\n",
        "#Function Calling...\n",
        "kdmpc_B = func_7314(WORK_KDMPC100_A);\n",
        "kdmpc_B.show()"
      ],
      "metadata": {
        "colab": {
          "base_uri": "https://localhost:8080/"
        },
        "id": "l6wIIE8s2PQ9",
        "outputId": "f05a5f44-3436-445d-bdc1-f77db154d78d"
      },
      "execution_count": 42,
      "outputs": [
        {
          "output_type": "stream",
          "name": "stdout",
          "text": [
            "+--------+--------+--------+-----+--------+--------+--------+------+--------+---------+-----------------+--------+-------+--------+--------+\n",
            "|CDCIAGRU|CDFILIAC|TCCDMONE|FECHA|TCRAMDGS|TCSUBRAM|TCTINERE|CDCAPA|CDCONREA| CDFILIAA|         DSIMPREA|CONCEPTO|IMPORTE|aammrepo|PRCEDCIA|\n",
            "+--------+--------+--------+-----+--------+--------+--------+------+--------+---------+-----------------+--------+-------+--------+--------+\n",
            "|       3|       4|       5|    2|       3|       3|       4|     9|       6|PRIMANETA|TABLA_PRIM_ROBUST|       3|      9|       2|       1|\n",
            "+--------+--------+--------+-----+--------+--------+--------+------+--------+---------+-----------------+--------+-------+--------+--------+\n",
            "\n",
            "+--------+--------+--------+-----+--------+--------+--------+------+--------+---------+---------+-----------------+-------+\n",
            "|CDCIAGRU|CDFILIAC|TCCDMONE|FECHA|TCRAMDGS|TCSUBRAM|TCTINERE|CDCAPA|CDCONREA| CDFILIAA| DSIMPREA|         CONCEPTO|IMPORTE|\n",
            "+--------+--------+--------+-----+--------+--------+--------+------+--------+---------+---------+-----------------+-------+\n",
            "|       3|       4|       5|    2|       3|       3|       4|     9|       6|PRIMANETA|PRIMANETA|TABLA_PRIM_ROBUST|      1|\n",
            "+--------+--------+--------+-----+--------+--------+--------+------+--------+---------+---------+-----------------+-------+\n",
            "\n"
          ]
        }
      ]
    },
    {
      "cell_type": "code",
      "source": [],
      "metadata": {
        "id": "yGtbLNIV2PPY"
      },
      "execution_count": null,
      "outputs": []
    },
    {
      "cell_type": "code",
      "source": [],
      "metadata": {
        "id": "pJyykMrM2PNb"
      },
      "execution_count": null,
      "outputs": []
    }
  ]
}